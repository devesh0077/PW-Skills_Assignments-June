{
  "nbformat": 4,
  "nbformat_minor": 0,
  "metadata": {
    "colab": {
      "provenance": []
    },
    "kernelspec": {
      "name": "python3",
      "display_name": "Python 3"
    },
    "language_info": {
      "name": "python"
    }
  },
  "cells": [
    {
      "cell_type": "markdown",
      "source": [
        "Q:1 Discuss strong slicing and provide examples"
      ],
      "metadata": {
        "id": "1xqhjiW-jDz6"
      }
    },
    {
      "cell_type": "code",
      "source": [
        "# Strong slicing in  refers to using the `slice` object to extract parts of sequences like lists, tuples, or strings. The syntax is `sequence[start:stop:step]`.\n",
        "\n",
        "# Examples:\n",
        "\n",
        "# 1. Basic Slicing:\n",
        "   my_list_1 = [0, 1, 2, 3, 4, 5]\n",
        "   print(my_list_1[1:4])  # Output: [1, 2, 3]\n",
        "\n",
        "\n",
        "# 2. Slicing with Step:\n",
        "   my_list_2 = [0, 1, 2, 3, 4, 5]\n",
        "   print(my_list_2[0:5:2])  # Output: [0, 2, 4]\n",
        "\n",
        "\n",
        "# 3. Omitting Start and Stop:\n",
        "   my_list_3 = [0, 1, 2, 3, 4, 5]\n",
        "   print(my_list_3[:3])  # Output: [0, 1, 2]\n",
        "   print(my_list_3[3:])  # Output: [3, 4, 5]\n",
        "\n",
        "\n",
        "# 4. Using Negative Indices:\n",
        "   my_list_4 = [0, 1, 2, 3, 4, 5]\n",
        "   print(my_list_4[-3:-1])  # Output: [3, 4]\n",
        "\n",
        "\n",
        "# 5. Reversing a List:\n",
        "   my_list_5 = [0, 1, 2, 3, 4, 5]\n",
        "   print(my_list_5[::-1])  # Output: [5, 4, 3, 2, 1, 0]\n",
        "\n",
        "\n",
        "# 6. Using `slice` Object:\n",
        "   my_list_6 = [0, 1, 2, 3, 4, 5]\n",
        "   my_slice = slice(1, 4)\n",
        "   print(my_list_6[my_slice])  # Output: [1, 2, 3]\n"
      ],
      "metadata": {
        "id": "8N2Tb3m7jHz_"
      },
      "execution_count": null,
      "outputs": []
    },
    {
      "cell_type": "markdown",
      "source": [
        "Q:2 Explain the key features of lists in ."
      ],
      "metadata": {
        "id": "saCQn1PNkeyI"
      }
    },
    {
      "cell_type": "code",
      "source": [
        "'''\n",
        "Key Features of Lists in :\n",
        "\n",
        "1. Ordered: Elements maintain a specific order.\n",
        "2. Mutable: Elements can be changed.\n",
        "3. Dynamic: Lists can grow and shrink.\n",
        "4. Heterogeneous: Can contain different data types.\n",
        "5. Indexable: Elements accessed by index.\n",
        "6. Supports Slicing: Parts of the list can be accessed.\n",
        "7. Methods: Built-in methods for operations.\n",
        "8. Iterables: Can be looped through.\n",
        "9. Nesting: Can contain other lists.\n",
        "'''\n",
        "my_list = [1, \"hello\", 3.14]"
      ],
      "metadata": {
        "id": "fCAaFsjnkzAI"
      },
      "execution_count": null,
      "outputs": []
    },
    {
      "cell_type": "markdown",
      "source": [
        "Q:3 Describe how to access, modify and delete elements in a list with examples."
      ],
      "metadata": {
        "id": "hG4O71b4mHyW"
      }
    },
    {
      "cell_type": "code",
      "source": [
        "#Accessing Elements\n",
        "Use the index to access elements.\n",
        "\n",
        "my_list = [10, 20, 30, 40, 50]\n",
        "print(my_list[2])  # Output: 30\n",
        "\n",
        "\n",
        "#Modifying Elements\n",
        "Assign a new value to a specific index.\n",
        "\n",
        "my_list[2] = 35\n",
        "print(my_list)  # Output: [10, 20, 35, 40, 50]\n",
        "\n",
        "\n",
        "#Deleting Elements\n",
        "Use `del`, `remove()`, or `pop()`.\n",
        "\n",
        "# Using del\n",
        "del my_list[2]\n",
        "print(my_list)  # Output: [10, 20, 40, 50]\n",
        "\n",
        "# Using remove()\n",
        "my_list.remove(40)\n",
        "print(my_list)  # Output: [10, 20, 50]\n",
        "\n",
        "# Using pop()\n",
        "my_list.pop(1)\n",
        "print(my_list)  # Output: [10, 50]"
      ],
      "metadata": {
        "id": "SPTnlqsamrCu"
      },
      "execution_count": null,
      "outputs": []
    },
    {
      "cell_type": "markdown",
      "source": [
        "Q:4 Compare and contrast tuples and lists with examples."
      ],
      "metadata": {
        "id": "-fE-6TkaPakH"
      }
    },
    {
      "cell_type": "code",
      "source": [
        "#  Tuples vs. Lists in Python\n",
        "\n",
        "# Similarities:\n",
        "# 1. Ordered: Both maintain the order of elements.\n",
        "# 2. Indexable: Elements can be accessed by index.\n",
        "# 3. Heterogeneous: Both can contain different data types.\n",
        "# 4. Iterable: Both can be looped through.\n",
        "\n",
        "# Differences:\n",
        "\n",
        "# 1. Mutability:\n",
        "#    - List: Mutable, elements can be changed.\n",
        "#    - Tuple: Immutable, elements cannot be changed.\n",
        "   my_list = [1, 2, 3]\n",
        "   my_list[0] = 4  # my_list is now [4, 2, 3]\n",
        "\n",
        "   my_tuple = (1, 2, 3)\n",
        "   # my_tuple[0] = 4  # Error: 'tuple' object does not support item assignment.\n",
        "\n",
        "# 2. Syntax:\n",
        "#    - List: Defined using square brackets `[]`.\n",
        "#    - Tuple: Defined using parentheses `()`.\n",
        "   my_list = [1, 2, 3]\n",
        "   my_tuple = (1, 2, 3)\n",
        "\n",
        "# 3. Use Cases:\n",
        "#    - List: Suitable for collections of items that may change.\n",
        "#    - Tuple: Suitable for fixed collections of items.\n",
        "   mutable_list = [10, 20, 30]\n",
        "   fixed_tuple = (10, 20, 30)\n",
        "\n",
        "# 4. Methods:\n",
        "#    - List: Many built-in methods (e.g., `append()`, `remove()`, `sort()`).\n",
        "#    - Tuple: Fewer built-in methods (e.g., `count()`, `index()`).\n",
        "   my_list.append(4)  # [1, 2, 3, 4]\n",
        "   my_list.remove(2)  # [1, 3, 4]\n",
        "\n",
        "   my_tuple.count(2)  # 1\n",
        "   my_tuple.index(2)  # 1\n",
        "\n",
        "# 5. Performance:\n",
        "#    - List: Slower due to mutability.\n",
        "#    - Tuple: Faster due to immutability.\n",
        "   # Example with performance consideration\n",
        "   large_list = [i for i in range(1000000)]\n",
        "   large_tuple = tuple(large_list)\n",
        "\n",
        "# In summary:\n",
        "# - Lists are mutable, versatile, and have more methods.\n",
        "# - Tuples are immutable, faster, and suitable for fixed collections."
      ],
      "metadata": {
        "id": "8luUQbxRPoOi"
      },
      "execution_count": null,
      "outputs": []
    },
    {
      "cell_type": "markdown",
      "source": [
        "Q:5 Describe the key features of sets and provide examples of their use."
      ],
      "metadata": {
        "id": "ZtB8oIT5Q_HP"
      }
    },
    {
      "cell_type": "code",
      "source": [
        "# Key Features of Sets:\n",
        "\n",
        "# 1. ordered\n",
        "#. Unue Elements\n",
        "# 3Mutae\n",
        "# 4. inded\n",
        "# 5. Fa Memrship Testing\n",
        "# 6. Set eratns\n",
        "\n",
        "# Examples\n",
        "# 1. Create a Set:\n",
        " my_set = {1,, 3}\n",
        "\n",
        "# 2. Remove Duplicates:\n",
        "   my_list = [1,  2, 3]\n",
        "   my_set =et(my_list)  # {1, 2, 3}\n",
        "\n",
        "# 3. Membership Testing:\n",
        "   print(2 in my_set)  # True\n",
        "\n",
        "# 4. SeOperations:\n",
        "   set_= {1, 2, 3}\n",
        "   set_b = {3, 4, 5}\n",
        "\n",
        "   union = set_a | seb  # {1, 2, 3,  5}\n",
        "   intersection = set_a & set_b  # {3}\n",
        "   difference = set_a - set_b  # {1, 2}\n",
        "\n",
        "# 5. Add/Remove Elements:\n",
        "   my_set.add(4)\n",
        "   my_set.remove(2)\n",
        "   print(my_set)  # {1, 3, 4}\n"
      ],
      "metadata": {
        "id": "sxsw3X8mRfjQ"
      },
      "execution_count": null,
      "outputs": []
    },
    {
      "cell_type": "markdown",
      "source": [
        "Q;6 Discuss the use cases of tuples and sets in Python programming."
      ],
      "metadata": {
        "id": "QGavrwQ-S9YN"
      }
    },
    {
      "cell_type": "code",
      "source": [
        "# Use Cases of Tuples:\n",
        "\n",
        "# 1. Immutable Collections:\n",
        "   coordinates = (10, 20)\n",
        "\n",
        "# 2. Return Multiple Values:\n",
        "   def get_user():\n",
        "       return (\"Alice\", 30)\n",
        "\n",
        "# 3. Dictionary Keys:\n",
        "   my_dict = {(1, 2): \"value\"}\n",
        "\n",
        "# 4. Structured Data:\n",
        "   person = (\"John\", \"Doe\", 30)\n",
        "\n",
        "# Use Cases of Sets:\n",
        "\n",
        "# 1. Unique Collections:\n",
        "   unique_numbers = {1, 2, 3, 3, 4}  # {1, 2, 3, 4}\n",
        "\n",
        "# 2. Membership Testing:\n",
        "   if 3 in unique_numbers:\n",
        "       print(\"3 is in the set\")\n",
        "\n",
        "# 3. Set Operations:\n",
        "   set_a = {1, 2, 3}\n",
        "   set_b = {3, 4, 5}\n",
        "   union = set_a | set_b  # {1, 2, 3, 4, 5}\n",
        "\n",
        "# 4. Remove Duplicates:\n",
        "   my_list = [1, 2, 2, 3]\n",
        "   unique_list = list(set(my_list))  # [1, 2, 3]"
      ],
      "metadata": {
        "id": "jb1tDrbWTUOH"
      },
      "execution_count": null,
      "outputs": []
    },
    {
      "cell_type": "markdown",
      "source": [
        "Q:7 Describe how to add, modify, and delete items in a dictionary with examples."
      ],
      "metadata": {
        "id": "JXJYKyl1U1Nh"
      }
    },
    {
      "cell_type": "code",
      "source": [
        "# Adding Items\n",
        "my_dict = {'a': 1}\n",
        "my_dict['b'] = 2  # {'a': 1, 'b': 2}\n",
        "\n",
        "# Modifying Items\n",
        "my_dict['a'] = 10  # {'a': 10, 'b': 2}\n",
        "\n",
        "# Deleting Items\n",
        "del my_dict['b']  # {'a': 10}\n",
        "my_dict.pop('a')  # {}"
      ],
      "metadata": {
        "id": "lfy7289GVM1Y"
      },
      "execution_count": null,
      "outputs": []
    },
    {
      "cell_type": "markdown",
      "source": [
        "Q:8 Discuss the importance of dictionary keys being immutable and provide examples."
      ],
      "metadata": {
        "id": "FsrxJh5RWIJt"
      }
    },
    {
      "cell_type": "code",
      "source": [
        "'''Importance of Immutable Dictionary Keys\n",
        "\n",
        "1. Consistency:\n",
        "   - Immutable keys ensure the dictionary remains consistent and reliable.\n",
        "   - Keys must be hashable, and immutability guarantees a stable hash value.\n",
        "\n",
        "2. Performance:\n",
        "   - Immutable keys provide efficient key lookups.\n",
        "   - Mutable keys could change, causing incorrect or failed lookups.\n",
        "\n",
        "3. Integrity:\n",
        "   - Prevents keys from being altered, maintaining data integrity.'''\n",
        "\n",
        "# Examples:\n",
        "\n",
        "# 1. Immutable Key Example:\n",
        "   my_dict = {(1, 2): \"value\"}  # Tuple (1, 2) as a key\n",
        "   print(my_dict[(1, 2)])  # Output: value\n",
        "\n",
        "# 2. Mutable Key Issue:\n",
        "   my_list = [1, 2]\n",
        "   my_dict = {my_list: \"value\"}  # Raises TypeError: unhashable type: 'list'\n",
        "\n",
        "# 3. Correct Use with Immutable Keys:\n",
        "   my_tuple = (1, 2)\n",
        "   my_dict = {my_tuple: \"value\"}  # Works correctly\n",
        "   print(my_dict[my_tuple])  # Output: value"
      ],
      "metadata": {
        "id": "_tzFXrMrWbv7"
      },
      "execution_count": null,
      "outputs": []
    }
  ]
}