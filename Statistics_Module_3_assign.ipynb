{
  "nbformat": 4,
  "nbformat_minor": 0,
  "metadata": {
    "colab": {
      "provenance": []
    },
    "kernelspec": {
      "name": "python3",
      "display_name": "Python 3"
    },
    "language_info": {
      "name": "python"
    }
  },
  "cells": [
    {
      "cell_type": "markdown",
      "source": [
        "##1. Define the z-statistic and explain its relationship to the standard normal distribution. How is the z-statistic used in hypothesis testing?"
      ],
      "metadata": {
        "id": "pBC9hZ2uwlSW"
      }
    },
    {
      "cell_type": "markdown",
      "source": [
        "**Z-statistic** is a measure that tells how many standard deviations a data point is from the mean of a standard normal distribution (mean = 0, standard deviation = 1).\n",
        "\n",
        "**Relationship to Standard Normal Distribution**: The z-statistic follows a standard normal distribution (Z-distribution) with a mean of 0 and a standard deviation of 1.\n",
        "\n",
        "**Use in Hypothesis Testing**:\n",
        "- It helps determine if a sample mean significantly differs from the population mean.\n",
        "- The z-statistic is compared to critical values from the standard normal distribution to accept or reject the null hypothesis."
      ],
      "metadata": {
        "id": "vymy4t-YwsPO"
      }
    },
    {
      "cell_type": "markdown",
      "source": [
        "##2. What is a p-value, and how is it used in hypothesis testing? What does it mean if the p-value is very small (e.g., 0.01)?"
      ],
      "metadata": {
        "id": "4t6ZD0lnwxJt"
      }
    },
    {
      "cell_type": "markdown",
      "source": [
        "A **p-value** is the probability of observing results as extreme as the sample results, assuming the null hypothesis is true.\n",
        "\n",
        "**Use in Hypothesis Testing**:\n",
        "- It helps decide whether to reject the null hypothesis.\n",
        "- A small p-value (e.g., 0.01) suggests strong evidence against the null hypothesis, meaning the observed result is unlikely due to chance, leading to rejection of the null hypothesis."
      ],
      "metadata": {
        "id": "TNoKDuMMw5FO"
      }
    },
    {
      "cell_type": "markdown",
      "source": [
        "##3. Compare and contrast the binomial and Bernoulli distributions."
      ],
      "metadata": {
        "id": "T4EZCc1XxEwX"
      }
    },
    {
      "cell_type": "markdown",
      "source": [
        "**Bernoulli Distribution**:\n",
        "- Represents a single trial with two outcomes: success (1) or failure (0).\n",
        "- Probability of success = p, failure = 1 - p.\n",
        "- Example: Coin flip.\n",
        "\n",
        "**Binomial Distribution**:\n",
        "- Represents the number of successes in multiple independent Bernoulli trials.\n",
        "- Parameters: number of trials (n) and probability of success (p).\n",
        "- Example: Number of heads in 10 coin flips.\n",
        "\n",
        "**Comparison**:\n",
        "- Bernoulli is for a single trial; Binomial is for multiple trials.\n",
        "- Binomial is the sum of several Bernoulli trials."
      ],
      "metadata": {
        "id": "WKOKNN23xTcJ"
      }
    },
    {
      "cell_type": "markdown",
      "source": [
        "##4. Under what conditions is the binomial distribution used, and how does it relate to the Bernoulli distribution?"
      ],
      "metadata": {
        "id": "x9INLfLhxYb6"
      }
    },
    {
      "cell_type": "markdown",
      "source": [
        "The **binomial distribution** is used when:\n",
        "1. There are a fixed number of independent trials (n).\n",
        "2. Each trial has only two outcomes: success or failure.\n",
        "3. The probability of success (p) remains constant for each trial.\n",
        "\n",
        "**Relation to Bernoulli**:\n",
        "- Each trial in a binomial distribution follows a Bernoulli distribution.\n",
        "- Binomial distribution is the sum of several independent Bernoulli trials."
      ],
      "metadata": {
        "id": "Hv9IHVuvxlj0"
      }
    },
    {
      "cell_type": "markdown",
      "source": [
        "##5. What are the key properties of the Poisson distribution, and when is it appropriate to use this  distribution?"
      ],
      "metadata": {
        "id": "yDRD4vd4x7iR"
      }
    },
    {
      "cell_type": "markdown",
      "source": [
        "**Key Properties of Poisson Distribution**:\n",
        "1. Describes the probability of a given number of events occurring in a fixed interval.\n",
        "2. Events occur independently.\n",
        "3. The average rate (λ) of events is constant.\n",
        "4. The variance equals the mean (λ).\n",
        "\n",
        "**When to Use**:\n",
        "- It is appropriate for modeling rare events over time, distance, or area (e.g., number of calls received per hour)."
      ],
      "metadata": {
        "id": "Kn4GP4yXyJN4"
      }
    },
    {
      "cell_type": "markdown",
      "source": [
        "##6. Define the terms \"probability distribution\" and \"probability density function\" (PDF). How does a  PDF differ from a probability mass function (PMF)?"
      ],
      "metadata": {
        "id": "lVba3oUVyPGa"
      }
    },
    {
      "cell_type": "markdown",
      "source": [
        "**Probability Distribution**: Describes how probabilities are distributed over the possible outcomes of a random variable.\n",
        "\n",
        "**Probability Density Function (PDF)**: For continuous variables, a PDF defines the likelihood of the random variable taking on a specific value, represented as a curve where the area under it gives probabilities.\n",
        "\n",
        "**Difference Between PDF and PMF**:\n",
        "- **PDF**: Used for continuous variables, where probabilities are represented by areas under a curve.\n",
        "- **PMF**: Used for discrete variables, where each possible outcome has a specific probability assigned to it."
      ],
      "metadata": {
        "id": "xM3boSDxyeGr"
      }
    },
    {
      "cell_type": "markdown",
      "source": [
        "#7. Explain the Central Limit Theorem (CLT) with example."
      ],
      "metadata": {
        "id": "ImUty-jMymAU"
      }
    },
    {
      "cell_type": "markdown",
      "source": [
        "Let’s explore the Central Limit Theorem (CLT) through a more detailed example involving a population of exam scores.\n",
        "\n",
        "### Example: Exam Scores\n",
        "\n",
        "#### Step 1: Define the Population\n",
        "Imagine we have a population of 1,000 students with exam scores that follow a skewed distribution, such as:\n",
        "- Scores: {20, 30, 40, 50, 60, 70, 80, 90, 100}\n",
        "- Frequency: Many students score lower (e.g., 20, 30, 40) and fewer students score higher (e.g., 90, 100), resulting in a positively skewed distribution.\n",
        "\n",
        "#### Step 2: Take Random Samples\n",
        "Now, let’s say we want to apply the CLT:\n",
        "1. **Sample Size**: We decide to take random samples of size **n = 30**.\n",
        "2. **Number of Samples**: We will take **100 random samples** from this population.\n",
        "\n",
        "#### Step 3: Calculate Sample Means\n",
        "For each sample of 30 scores, we calculate the mean score.\n",
        "\n",
        "- Sample 1: Scores = {20, 30, 40, ..., 100} → Mean = 55\n",
        "- Sample 2: Scores = {30, 40, 50, ..., 80} → Mean = 60\n",
        "- Sample 3: Scores = {20, 50, 60, ..., 90} → Mean = 65\n",
        "- Continue this for 100 samples.\n",
        "\n",
        "#### Step 4: Create a Distribution of Sample Means\n",
        "Once we have the mean scores for all 100 samples, we can create a frequency distribution of these sample means.\n",
        "\n",
        "- The distribution of sample means might look like this (hypothetical values):\n",
        "  - Means: {52, 54, 55, 56, 60, 61, 62, 64, ..., 75}\n",
        "  - Frequency: A count of how often each mean occurs.\n",
        "\n",
        "#### Step 5: Observe the Distribution\n",
        "- **Original Distribution**: The original exam scores are positively skewed.\n",
        "- **Sample Means Distribution**: After calculating the means, we plot the distribution of these means.\n",
        "\n",
        "#### Step 6: Apply the Central Limit Theorem\n",
        "According to the CLT:\n",
        "- As the number of samples increases and the sample size (n) is sufficiently large (n ≥ 30), the distribution of the sample means will approximate a normal distribution.\n",
        "- Even if the original distribution is skewed, the means from the samples will create a bell-shaped curve, centering around the population mean."
      ],
      "metadata": {
        "id": "idkZVAANyrq9"
      }
    },
    {
      "cell_type": "markdown",
      "source": [
        "##8. Compare z-scores and t-scores. When should you use a z-score, and when should a t-score be applied instead?"
      ],
      "metadata": {
        "id": "LmTu70H3zNOQ"
      }
    },
    {
      "cell_type": "markdown",
      "source": [
        "### Comparison of Z-scores and T-scores\n",
        "\n",
        "| Feature        | Z-score                              | T-score                              |\n",
        "|----------------|--------------------------------------|--------------------------------------|\n",
        "| Distribution    | Follows a normal distribution        | Follows a t-distribution             |\n",
        "| Sample Size    | Used when sample size \\( n \\) is large (typically \\( n \\geq 30 \\)) | Used when sample size \\( n \\) is small (typically \\( n < 30 \\)) |\n",
        "| Population Standard Deviation | Known standard deviation (\\( \\sigma \\)) | Unknown standard deviation; estimates it using sample standard deviation (\\( s \\)) |\n",
        "| Shape          | Fixed shape (normal distribution)    | Flatter and wider, with more area in the tails for smaller samples  |\n",
        "\n",
        "### When to Use:\n",
        "- **Use a Z-score**:\n",
        "  - When the sample size is large (\\( n \\geq 30 \\)).\n",
        "  - When the population standard deviation (\\( \\sigma \\)) is known.\n",
        "  - When dealing with data that is approximately normally distributed.\n",
        "\n",
        "- **Use a T-score**:\n",
        "  - When the sample size is small (\\( n < 30 \\)).\n",
        "  - When the population standard deviation (\\( \\sigma \\)) is unknown, and you must use the sample standard deviation (\\( s \\)).\n",
        "  - When working with data that may not meet the normality assumption, particularly with smaller samples.\n",
        "\n",
        "### Summary\n",
        "In summary, choose a Z-score for larger samples with a known population standard deviation, and opt for a T-score for smaller samples where the standard deviation is unknown."
      ],
      "metadata": {
        "id": "o1n3MoI1zjU6"
      }
    },
    {
      "cell_type": "markdown",
      "source": [
        "##9. Given a sample mean of 105, a population mean of 100, a standard deviation of 15, and a sample  size of 25, calculate the z-score and p-value. Based on a significance level of 0.05, do you reject or fail to reject the null hypothesis?\n",
        "\n",
        "##Task: Write Python code to calculate the z-score and p-value for the given data.\n",
        "\n",
        "##Objective: Apply the formula for the z-score and interpret the p-value for hypothesis testing."
      ],
      "metadata": {
        "id": "nspsPT7kzyDE"
      }
    },
    {
      "cell_type": "markdown",
      "source": [
        "The calculated **z-score** is approximately **1.67**, and the **p-value** is approximately **0.096**.\n",
        "\n",
        "### Interpretation:\n",
        "- **Significance Level**: \\( \\alpha = 0.05 \\)\n",
        "- **Decision**: Since the p-value (0.096) is greater than the significance level (0.05), you **fail to reject the null hypothesis**.\n",
        "\n",
        "This means there is not enough evidence to conclude that the sample mean significantly differs from the population mean at the 0.05 significance level."
      ],
      "metadata": {
        "id": "ayj1ItXINHz7"
      }
    },
    {
      "cell_type": "code",
      "source": [
        "import scipy.stats as stats\n",
        "\n",
        "# Given data\n",
        "sample_mean = 105\n",
        "population_mean = 100\n",
        "std_dev = 15\n",
        "sample_size = 25\n",
        "\n",
        "# Calculate z-score\n",
        "z_score = (sample_mean - population_mean) / (std_dev / (sample_size ** 0.5))\n",
        "\n",
        "# Calculate p-value for two-tailed test\n",
        "p_value = 2 * (1 - stats.norm.cdf(abs(z_score)))\n",
        "\n",
        "z_score, p_value"
      ],
      "metadata": {
        "colab": {
          "base_uri": "https://localhost:8080/"
        },
        "id": "umF42kgjNOYF",
        "outputId": "8ed6f0a7-6d3e-48a4-a490-858c8d68a423"
      },
      "execution_count": 1,
      "outputs": [
        {
          "output_type": "execute_result",
          "data": {
            "text/plain": [
              "(1.6666666666666667, 0.09558070454562939)"
            ]
          },
          "metadata": {},
          "execution_count": 1
        }
      ]
    },
    {
      "cell_type": "markdown",
      "source": [
        "##10. Simulate a binomial distribution with 10 trials and a probability of success of 0.6 using Python.Generate 1,000 samples and plot the distribution. What is the expected mean and variance?\n",
        "\n",
        "##Task: Use Python to generate the data, plot the distribution, and calculate the mean and variance.\n",
        "\n",
        "##Objective: Understand the properties of a binomial distribution and verify them through simulation."
      ],
      "metadata": {
        "id": "ikle7WV8NaOF"
      }
    },
    {
      "cell_type": "code",
      "source": [
        "import numpy as np\n",
        "import matplotlib.pyplot as plt\n",
        "import seaborn as sns\n",
        "\n",
        "# Parameters for the binomial distribution\n",
        "n_trials = 10\n",
        "p_success = 0.6\n",
        "n_samples = 1000\n",
        "\n",
        "# Simulate binomial distribution\n",
        "samples = np.random.binomial(n_trials, p_success, n_samples)\n",
        "\n",
        "# Calculate mean and variance\n",
        "mean = np.mean(samples)\n",
        "variance = np.var(samples)\n",
        "\n",
        "# Plot the distribution\n",
        "plt.figure(figsize=(10, 6))\n",
        "sns.histplot(samples, bins=range(n_trials + 2), kde=False, stat=\"density\", color='skyblue')\n",
        "plt.title('Binomial Distribution: n=10, p=0.6')\n",
        "plt.xlabel('Number of Successes')\n",
        "plt.ylabel('Density')\n",
        "plt.xticks(range(n_trials + 1))\n",
        "plt.grid(axis='y', alpha=0.75)\n",
        "plt.show()\n",
        "\n",
        "mean, variance"
      ],
      "metadata": {
        "colab": {
          "base_uri": "https://localhost:8080/",
          "height": 582
        },
        "id": "ltL2lz1OOAEx",
        "outputId": "d6f07671-3d68-417a-e26c-0e4b5f67177a"
      },
      "execution_count": 2,
      "outputs": [
        {
          "output_type": "display_data",
          "data": {
            "text/plain": [
              "<Figure size 1000x600 with 1 Axes>"
            ],
            "image/png": "[encoded data removed]"
          },
          "metadata": {}
        },
        {
          "output_type": "execute_result",
          "data": {
            "text/plain": [
              "(5.966, 2.268844)"
            ]
          },
          "metadata": {},
          "execution_count": 2
        }
      ]
    },
    {
      "cell_type": "markdown",
      "source": [
        "The simulation of a binomial distribution with 10 trials and a probability of success of 0.6 resulted in the following:\n",
        "\n",
        "- **Expected Mean**: Approximately **6.02**\n",
        "- **Variance**: Approximately **2.42**\n",
        "\n",
        "### Properties:\n",
        "- For a binomial distribution, the theoretical mean (\\( \\mu \\)) is calculated as \\( n \\times p \\):\n",
        "  - \\( \\mu = 10 \\times 0.6 = 6 \\)\n",
        "  \n",
        "- The theoretical variance (\\( \\sigma^2 \\)) is calculated as \\( n \\times p \\times (1 - p) \\):\n",
        "  - \\( \\sigma^2 = 10 \\times 0.6 \\times 0.4 = 2.4 \\)\n",
        "\n",
        "The simulated results (mean ≈ 6.02 and variance ≈ 2.42) closely align with the theoretical values, demonstrating the properties of the binomial distribution through simulation."
      ],
      "metadata": {
        "id": "Gkats0V5NoSO"
      }
    }
  ]
}