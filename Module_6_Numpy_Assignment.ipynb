{
  "nbformat": 4,
  "nbformat_minor": 0,
  "metadata": {
    "colab": {
      "provenance": []
    },
    "kernelspec": {
      "name": "python3",
      "display_name": "Python 3"
    },
    "language_info": {
      "name": "python"
    }
  },
  "cells": [
    {
      "cell_type": "markdown",
      "source": [
        "# Theoretical Questions:\n"
      ],
      "metadata": {
        "id": "Xue1kM8xeVKO"
      }
    },
    {
      "cell_type": "markdown",
      "source": [
        "## 1. Explain the purpose and advantages of NumPy in scientific computing and data analysis. How does it enhance Python's capabilities for numerical operations?"
      ],
      "metadata": {
        "id": "O53Dgniyep8H"
      }
    },
    {
      "cell_type": "markdown",
      "source": [
        "**ANSWER:**\n",
        "\n",
        "> NumPy is a popular Python library that makes working with numbers, especially large sets of numbers, much easier and faster. It's widely used in fields like scientific computing and data analysis. Here's why it's so useful:\n",
        "\n",
        "# Purpose of NumPy\n",
        "\n",
        "1. **Handling Big Data Sets**: NumPy lets you work with large collections of numbers efficiently. It uses a special kind of array called 'ndarray' that can hold data in a structured way, much more efficiently than standard Python lists.\n",
        "\n",
        "2. **Math Tools**: It comes with a lot of built-in tools for doing math, like finding the average, doing algebra, and even working with random numbers. This means you can perform complex calculations quickly and easily.\n",
        "\n",
        "3. **Data Analysis**: NumPy is great for cleaning and organizing data, which is a big part of data analysis. It works well with other data-focused libraries like pandas, making it a key tool for anyone analyzing data.\n",
        "\n",
        "4. **Works Well with Others**: NumPy integrates smoothly with other Python libraries, which means you can easily combine it with other tools for scientific computing, plotting, or machine learning.\n",
        "\n",
        "# Advantages of NumPy\n",
        "\n",
        "1. **Speed**: NumPy is much faster than standard Python for numerical tasks because it's written in C and uses efficient techniques to handle data. This means tasks that might take minutes with regular Python lists can be done in seconds with NumPy arrays.\n",
        "\n",
        "2. **Less Memory Use**: NumPy arrays are more memory-efficient than Python lists. This means you can work with bigger data sets without using up all your computer's memory.\n",
        "\n",
        "3. **Lots of Features**: It offers a wide range of functions, from basic math to complex statistical operations, all optimized for performance.\n",
        "\n",
        "4. **User-Friendly**: The library is designed to be easy to use. You can quickly perform operations on entire arrays of data, which simplifies the code and reduces errors.\n",
        "\n",
        "5. **Strong Community**: NumPy has a large community of users and developers, providing plenty of resources, tutorials, and support. It also means it works well with a lot of other tools and libraries.\n",
        "\n",
        "# Enhancing Python\n",
        "\n",
        "By itself, Python isn't optimized for handling large-scale numerical data. NumPy fills this gap by providing:\n",
        "\n",
        "1. **Fast Computations**: It speeds up the process of working with large data sets.\n",
        "2. **Clean Code**: You can do more with less code, making it easier to read and maintain.\n",
        "3. **Consistent Tools**: It offers a reliable set of functions and tools for working with numbers, so you don’t have to reinvent the wheel."
      ],
      "metadata": {
        "id": "IoyxDOUKhlyV"
      }
    },
    {
      "cell_type": "markdown",
      "source": [
        "##2. Compare and contrast np.mean() and np.average() functions in NumPy. When would you use one over the other?"
      ],
      "metadata": {
        "id": "g5vDE9hZiWnV"
      }
    },
    {
      "cell_type": "markdown",
      "source": [
        "Both 'np.mean()' and 'np.average()' in NumPy are used to calculate the average of a set of numbers, but they have some differences:\n",
        "\n",
        "# 'np.mean()'\n",
        "- **Purpose**: It calculates the simple average (mean) of all the numbers in the array.\n",
        "- **How it works**: Adds up all the numbers and then divides by the total count of numbers.\n",
        "- **Usage**: Use 'np.mean()' when you just want the straightforward average without considering any weights.\n",
        "\n",
        "# 'np.average()'\n",
        "- **Purpose**: It can calculate a weighted average, which means you can give different importance (weights) to different numbers.\n",
        "- **How it works**: If you provide weights, it multiplies each number by its weight, adds those results together, and then divides by the total of the weights.\n",
        "- **Usage**: Use 'np.average()' when you have weights and want to calculate a weighted average, where some numbers are more important than others.\n",
        "\n",
        "# When to Use Each\n",
        "- Use **'np.mean()'** for a regular average when all numbers should be treated equally.\n",
        "- Use **'np.average()'** when some numbers should count more than others, like when averaging test scores where some tests are more important."
      ],
      "metadata": {
        "id": "VXYBRZ5Tixg2"
      }
    },
    {
      "cell_type": "markdown",
      "source": [
        "##3. Describe the methods for reversing a NumPy array along different axes. Provide examples for 1D and 2D arrays."
      ],
      "metadata": {
        "id": "NDnNi3S1j1UQ"
      }
    },
    {
      "cell_type": "code",
      "source": [
        "We can use slicing or the 'np.flip()' function.\n",
        "\n",
        "# 1D Array\n",
        "\n",
        "#For a one-dimensional array, you can reverse the elements using slicing:\n",
        "\n",
        "\n",
        "import numpy as np\n",
        "\n",
        "# 1D array example\n",
        "arr_1d = np.array([1, 2, 3, 4, 5])\n",
        "reversed_arr_1d = arr_1d[::-1]\n",
        "\n",
        "print(reversed_arr_1d)  # Output: [5 4 3 2 1]\n",
        "\n",
        "\n",
        "# 2D Array\n",
        "\n",
        "#For a two-dimensional array, you can reverse the array along different axes:\n",
        "\n",
        "# 1.Reverse all rows (along the vertical axis, or axis 0):\n",
        "\n",
        "\n",
        "# 2D array example\n",
        "arr_2d = np.array([[1, 2, 3], [4, 5, 6], [7, 8, 9]])\n",
        "reversed_arr_rows = arr_2d[::-1, :]\n",
        "\n",
        "print(reversed_arr_rows)\n",
        "# Output:\n",
        "# [[7 8 9]\n",
        "#  [4 5 6]\n",
        "#  [1 2 3]]\n",
        "\n",
        "\n",
        "# 2.Reverse all columns (along the horizontal axis, or axis 1):\n",
        "\n",
        "\n",
        "reversed_arr_columns = arr_2d[:, ::-1]\n",
        "\n",
        "print(reversed_arr_columns)\n",
        "# Output:\n",
        "# [[3 2 1]\n",
        "#  [6 5 4]\n",
        "#  [9 8 7]]\n",
        "\n",
        "\n",
        "# 3.Reverse both axes (both rows and columns):\n",
        "\n",
        "\n",
        "reversed_arr_both = arr_2d[::-1, ::-1]\n",
        "\n",
        "print(reversed_arr_both)\n",
        "# Output:\n",
        "# [[9 8 7]\n",
        "#  [6 5 4]\n",
        "#  [3 2 1]]\n",
        "\n",
        "\n",
        "# Using 'np.flip()'\n",
        "\n",
        "# 'np.flip()' can also reverse arrays along specified axes:\n",
        "\n",
        "- Reverse a 1D array:\n",
        "\n",
        "\n",
        "reversed_arr_1d_flip = np.flip(arr_1d)\n",
        "\n",
        "print(reversed_arr_1d_flip)  # Output: [5 4 3 2 1]\n",
        "\n",
        "\n",
        "# - Reverse a 2D array along different axes:\n",
        "\n",
        "\n",
        "# Reverse all rows\n",
        "reversed_arr_rows_flip = np.flip(arr_2d, axis=0)\n",
        "print(reversed_arr_rows_flip)\n",
        "\n",
        "# Reverse all columns\n",
        "reversed_arr_columns_flip = np.flip(arr_2d, axis=1)\n",
        "print(reversed_arr_columns_flip)"
      ],
      "metadata": {
        "id": "DpctLucRs0JI"
      },
      "execution_count": null,
      "outputs": []
    },
    {
      "cell_type": "markdown",
      "source": [
        "##4. How can you determine the data type of elements in a NumPy array? Discuss the importance of data types in memory management and performance."
      ],
      "metadata": {
        "id": "w6rHwvgzuygx"
      }
    },
    {
      "cell_type": "code",
      "source": [
        "# Determining Data Type\n",
        "\n",
        "import numpy as np\n",
        "\n",
        "arr = np.array([1, 2, 3, 4, 5])\n",
        "\n",
        "data_type = arr.dtype\n",
        "\n",
        "print(data_type)\n",
        "\n",
        "# Importance of Data Types\n",
        "'''\n",
        "1.Memory Management:\n",
        "   - Using the appropriate data type helps save memory, which is crucial when working with large datasets.\n",
        "\n",
        "2.Performance:\n",
        "   - Data types affect computational speed. Operations on smaller data types can be faster and use less memory bandwidth. However, using a smaller data type might reduce precision, so it's a balance between speed and accuracy.\n",
        "\n",
        "3.Compatibility:\n",
        "   - Ensuring the correct data type is important for compatibility with other libraries and functions that might expect specific types.\n",
        "'''"
      ],
      "metadata": {
        "id": "tWRni8r1xnHu"
      },
      "execution_count": null,
      "outputs": []
    },
    {
      "cell_type": "markdown",
      "source": [
        "##5. Define ndarrays in NumPy and explain their key features. How do they differ from standard Python lists?"
      ],
      "metadata": {
        "id": "ut567EyOysq9"
      }
    },
    {
      "cell_type": "markdown",
      "source": [
        "### What is an 'ndarray' in NumPy?\n",
        "\n",
        "An 'ndarray' (short for \"n-dimensional array\") is a central data structure in NumPy. It’s a type of array that can hold numbers and can be multi-dimensional (like 1D, 2D, or even 3D).\n",
        "\n",
        "### Key Features of 'ndarray'\n",
        "\n",
        "1. **Fixed Size**: Once you create an 'ndarray', its size doesn’t change. You can't add or remove elements.\n",
        "\n",
        "2. **Efficient**: 'ndarray' is very fast for numerical operations because it’s implemented in C and can do many operations at once.\n",
        "\n",
        "3. **Homogeneous**: All elements in an 'ndarray' must be of the same type (like all integers or all floats).\n",
        "\n",
        "4. **Multi-dimensional**: It can be one-dimensional (like a list), two-dimensional (like a matrix), or more. This allows for more complex data structures.\n",
        "\n",
        "5. **Vectorized Operations**: You can perform operations on all elements at once without writing loops, which makes the code cleaner and faster.\n",
        "\n",
        "6. **Broadcasting**: This feature allows you to perform arithmetic operations on arrays of different sizes and shapes in a smart way.\n",
        "\n",
        "### How 'ndarray' Differs from Python Lists\n",
        "\n",
        "1. **Speed**: 'ndarray' is faster for numerical tasks because it’s optimized for performance. Python lists can be slower for these operations.\n",
        "\n",
        "2. **Fixed Size**: 'ndarray' size is fixed after creation, while Python lists can grow or shrink.\n",
        "\n",
        "3. **Homogeneity**: All elements in an 'ndarray' must be of the same type, but Python lists can hold mixed types (e.g., integers, strings).\n",
        "\n",
        "4. **Multi-dimensional**: 'ndarray' can be multi-dimensional (e.g., 2D matrices), while Python lists are typically one-dimensional, although you can nest lists to mimic dimensions.\n",
        "\n",
        "5. **Operations**: 'ndarray' supports vectorized operations, meaning you can do calculations on entire arrays quickly, while Python lists require manual loops for similar operations."
      ],
      "metadata": {
        "id": "v584m6Vde4gQ"
      }
    },
    {
      "cell_type": "markdown",
      "source": [
        "##6. Analyze the performance benefits of NumPy arrays over Python lists for large-scale numerical operations.\n"
      ],
      "metadata": {
        "id": "Aru4LOC3heeq"
      }
    },
    {
      "cell_type": "markdown",
      "source": [
        "NumPy arrays are better than Python lists for large numerical operations because they are:\n",
        "\n",
        "1. **Faster**: Implemented in C and support vectorized operations, so they handle numbers quickly.\n",
        "2. **Memory Efficient**: Use less memory because they store elements in a compact, fixed data type.\n",
        "3. **Convenient**: Have built-in, optimized functions for many operations, avoiding the need for loops."
      ],
      "metadata": {
        "id": "BA7dzSVEhl79"
      }
    },
    {
      "cell_type": "markdown",
      "source": [
        "##7. Compare vstack() and hstack() functions in NumPy. Provide examples demonstrating their usage and output."
      ],
      "metadata": {
        "id": "StgFITm4iGY2"
      }
    },
    {
      "cell_type": "code",
      "source": [
        "# vstack()\n",
        "# - Stacks arrays vertically (row-wise).\n",
        "# - Example:\n",
        "\n",
        "  arr1 = np.array([1, 2, 3])\n",
        "  arr2 = np.array([4, 5, 6])\n",
        "  result = np.vstack((arr1, arr2))\n",
        "  print(result)  # [[1 2 3]\n",
        "                #  [4 5 6]]\n",
        "\n",
        "\n",
        "# hstack()\n",
        "# - Stacks arrays horizontally (column-wise).\n",
        "# - Example:\n",
        "\n",
        "  arr1 = np.array([1, 2, 3])\n",
        "  arr2 = np.array([4, 5, 6])\n",
        "  result = np.hstack((arr1, arr2))\n",
        "  print(result)  # [1 2 3 4 5 6]"
      ],
      "metadata": {
        "id": "sbErzS0lv8WG"
      },
      "execution_count": null,
      "outputs": []
    },
    {
      "cell_type": "markdown",
      "source": [
        "##8. Explain the differences between fliplr() and flipud() methods in NumPy, including their effects on various array dimensions."
      ],
      "metadata": {
        "id": "Ndp-JKRbyidp"
      }
    },
    {
      "cell_type": "code",
      "source": [
        "# 'fliplr()'\n",
        "\n",
        "# - Purpose: Flips an array left to right (horizontally).\n",
        "# - Effect: Reverses the order of columns.\n",
        "# - Usage: Works on 2D arrays or higher.\n",
        "# - Example:\n",
        "\n",
        "  import numpy as np\n",
        "\n",
        "  arr = np.array([[1, 2, 3],\n",
        "                  [4, 5, 6]])\n",
        "  result = np.fliplr(arr)\n",
        "  print(result)\n",
        "  # Output:\n",
        "  # [[3 2 1]\n",
        "  #  [6 5 4]]\n",
        "\n",
        "# 'flipud()'\n",
        "\n",
        "# - Purpose: Flips an array upside down (vertically).\n",
        "# - Effect: Reverses the order of rows.\n",
        "# - Usage: Works on 2D arrays or higher.\n",
        "# - Example:\n",
        "\n",
        "  arr = np.array([[1, 2, 3],\n",
        "                  [4, 5, 6]])\n",
        "  result = np.flipud(arr)\n",
        "  print(result)\n",
        "  # Output:\n",
        "  # [[4 5 6]\n",
        "  #  [1 2 3]]"
      ],
      "metadata": {
        "id": "kAFUXXch1O_2"
      },
      "execution_count": null,
      "outputs": []
    },
    {
      "cell_type": "markdown",
      "source": [
        "##9. Discuss the functionality of the array_split() method in NumPy. How does it handle uneven splits?"
      ],
      "metadata": {
        "id": "Te1az99s2DQC"
      }
    },
    {
      "cell_type": "code",
      "source": [
        "# The array_split() method in NumPy is used to split an array into multiple sub-arrays. It is similar to split(), but it can handle cases where the array does not split evenly.\n",
        "\n",
        "# Functionality of array_split()\n",
        "\n",
        "# - Purpose: To divide an array into a specified number of sub-arrays.\n",
        "# - Parameters:\n",
        "#   1. ary: The array to be split.\n",
        "#   2. indices_or_sections: Can be an integer (number of equal-sized splits) or a list of indices (defining where the splits should occur).\n",
        "\n",
        "# Handling Uneven Splits\n",
        "\n",
        "# When the array cannot be evenly split, array_split() handles the remainder by creating sub-arrays of different sizes. The first few sub-arrays will have one more element than the rest.\n",
        "\n",
        "# Example:\n",
        "\n",
        "\n",
        "import numpy as np\n",
        "\n",
        "arr = np.array([1, 2, 3, 4, 5])\n",
        "split_arr = np.array_split(arr, 3)\n",
        "\n",
        "for sub_arr in split_arr:\n",
        "    print(sub_arr)\n",
        "\n",
        "\n",
        "# # Output:\n",
        "\n",
        "# # [1 2]\n",
        "# # [3 4]\n",
        "# [5]\n",
        "\n",
        "\n",
        "# In this example, the original array has 5 elements and is split into 3 parts. The first two sub-arrays have 2 elements each, and the last one has 1 element. This is how array_split() manages uneven splits, ensuring that each sub-array gets as close to equal elements as possible."
      ],
      "metadata": {
        "id": "BC82pxdL2kQd"
      },
      "execution_count": null,
      "outputs": []
    },
    {
      "cell_type": "markdown",
      "source": [
        "##10. Explain the concepts of vectorization and broadcasting in NumPy. How do they contribute to efficient array operations?"
      ],
      "metadata": {
        "id": "S-h_eCwx3TH8"
      }
    },
    {
      "cell_type": "code",
      "source": [
        "# Vectorization\n",
        "\n",
        "# Concept: Vectorization in NumPy means performing operations on entire arrays at once, instead of looping through elements one by one.\n",
        "\n",
        "# Benefits:\n",
        "# - Speed: Vectorized operations are faster because they use low-level optimized C code.\n",
        "# - Simpler Code: You can write cleaner and more readable code without explicit loops.\n",
        "\n",
        "# Example:\n",
        "import numpy as np\n",
        "\n",
        "arr = np.array([1, 2, 3, 4])\n",
        "result = arr * 2  # Multiply all elements by 2\n",
        "print(result)  # Output: [2 4 6 8]\n",
        "\n",
        "# Here, arr * 2 multiplies each element in arr by 2, without needing a loop.\n",
        "\n",
        "# Broadcasting\n",
        "\n",
        "# Concept: Broadcasting allows NumPy to perform operations on arrays of different shapes by \"stretching\" the smaller array to match the shape of the larger one.\n",
        "\n",
        "# Benefits:\n",
        "# - Memory Efficiency: No need to create multiple copies of the data.\n",
        "# - Flexibility: You can perform operations on arrays of different sizes without resizing them.\n",
        "\n",
        "# Example:\n",
        "arr1 = np.array([1, 2, 3])\n",
        "arr2 = np.array([[1], [2], [3]])\n",
        "\n",
        "result = arr1 + arr2\n",
        "print(result)\n",
        "\n",
        "# Output:\n",
        "\n",
        "[[2 3 4]\n",
        " [3 4 5]\n",
        " [4 5 6]]\n",
        "\n",
        "\n",
        "# In this example, arr1 (shape (3,)) and arr2 (shape (3, 1)) are broadcasted to the shape (3, 3), allowing the addition to occur.\n",
        "\n",
        "# How They Contribute to Efficient Array Operations\n",
        "\n",
        "# - Performance: Both vectorization and broadcasting eliminate the need for explicit loops, making operations much faster.\n",
        "# - Memory Efficiency: They avoid unnecessary data duplication, saving memory.\n",
        "# - Code Simplicity: They simplify the code, making it easier to read and maintain.\n",
        "\n",
        "# Overall, these concepts help in making numerical computations with large datasets efficient and quick in NumPy."
      ],
      "metadata": {
        "id": "uyBb07if3mT0"
      },
      "execution_count": null,
      "outputs": []
    },
    {
      "cell_type": "markdown",
      "source": [
        "#Practical Questions:"
      ],
      "metadata": {
        "id": "um2Enx3rlzwh"
      }
    },
    {
      "cell_type": "markdown",
      "source": [
        "##1. Create a 3x3 NumPy array with random integers between 1 and 100. Then, interchange its rows and columns."
      ],
      "metadata": {
        "id": "xc4c-B0Ll7Pk"
      }
    },
    {
      "cell_type": "code",
      "source": [
        "import numpy as np\n",
        "arr1 = np.random.randint(1,101,(3,3))\n",
        "print(arr1)\n",
        "interchanged = arr1.T\n",
        "print(interchanged)"
      ],
      "metadata": {
        "colab": {
          "base_uri": "https://localhost:8080/"
        },
        "id": "4iPBlyBwn3kT",
        "outputId": "4330ea87-85d6-4cc0-8c2b-8a1f451182ed"
      },
      "execution_count": null,
      "outputs": [
        {
          "output_type": "stream",
          "name": "stdout",
          "text": [
            "[[14 65 52]\n",
            " [62 51 99]\n",
            " [71  7 71]]\n",
            "[[14 62 71]\n",
            " [65 51  7]\n",
            " [52 99 71]]\n"
          ]
        }
      ]
    },
    {
      "cell_type": "markdown",
      "source": [
        "##2. Generate a 1D NumPy array with 10 elements. Reshape it into a 2x5 array, then into a 5x2 array."
      ],
      "metadata": {
        "id": "scFCOC7XmOH4"
      }
    },
    {
      "cell_type": "code",
      "source": [
        "import numpy as np\n",
        "arr = np.array([12,45,8,63,4,7,26,32,15,5])\n",
        "print(arr)\n",
        "arr1 = arr.reshape(2,5)\n",
        "print(arr1)\n",
        "arr2 = arr.reshape(5,2)\n",
        "print(arr2)"
      ],
      "metadata": {
        "colab": {
          "base_uri": "https://localhost:8080/"
        },
        "id": "fAZiZSU5py4y",
        "outputId": "5cb37487-45cc-4b37-b180-377cd0b99c45"
      },
      "execution_count": null,
      "outputs": [
        {
          "output_type": "stream",
          "name": "stdout",
          "text": [
            "[12 45  8 63  4  7 26 32 15  5]\n",
            "[[12 45  8 63  4]\n",
            " [ 7 26 32 15  5]]\n",
            "[[12 45]\n",
            " [ 8 63]\n",
            " [ 4  7]\n",
            " [26 32]\n",
            " [15  5]]\n"
          ]
        }
      ]
    },
    {
      "cell_type": "markdown",
      "source": [
        "##3. Create a 4x4 NumPy array with random float values. Add a border of zeros around it, resulting in a 6x6 array.\n"
      ],
      "metadata": {
        "id": "7edogyLomj_h"
      }
    },
    {
      "cell_type": "code",
      "source": [
        "import numpy as np\n",
        "\n",
        "arr = np.random.randint(1,100,(4,4)).astype(float)\n",
        "print(arr)\n",
        "arr1 = np.pad(arr, pad_width = 1, mode = 'constant', constant_values = 0)\n",
        "print(arr1)"
      ],
      "metadata": {
        "colab": {
          "base_uri": "https://localhost:8080/"
        },
        "id": "N2Hwb2vDrmL3",
        "outputId": "b80a18bc-66ab-458e-8d10-21a1f0411b77"
      },
      "execution_count": null,
      "outputs": [
        {
          "output_type": "stream",
          "name": "stdout",
          "text": [
            "[[71. 18. 85. 50.]\n",
            " [18.  4. 48. 76.]\n",
            " [73. 77. 26. 19.]\n",
            " [ 4. 56. 45. 31.]]\n",
            "[[ 0.  0.  0.  0.  0.  0.]\n",
            " [ 0. 71. 18. 85. 50.  0.]\n",
            " [ 0. 18.  4. 48. 76.  0.]\n",
            " [ 0. 73. 77. 26. 19.  0.]\n",
            " [ 0.  4. 56. 45. 31.  0.]\n",
            " [ 0.  0.  0.  0.  0.  0.]]\n"
          ]
        }
      ]
    },
    {
      "cell_type": "markdown",
      "source": [
        "##4. Using NumPy, create an array of integers from 10 to 60 with a step of 5.\n"
      ],
      "metadata": {
        "id": "X_L-TlGKmvgi"
      }
    },
    {
      "cell_type": "code",
      "source": [
        "import numpy as np\n",
        "\n",
        "arr = np.array(range(10,61,5))\n",
        "print(arr)"
      ],
      "metadata": {
        "colab": {
          "base_uri": "https://localhost:8080/"
        },
        "id": "N8IiwGfzvvl8",
        "outputId": "d7f9106a-68dc-4a92-88fd-97c5d918773a"
      },
      "execution_count": null,
      "outputs": [
        {
          "output_type": "stream",
          "name": "stdout",
          "text": [
            "[10 15 20 25 30 35 40 45 50 55 60]\n"
          ]
        }
      ]
    },
    {
      "cell_type": "markdown",
      "source": [
        "##5. Create a NumPy array of strings ['python', 'numpy', 'pandas']. Apply different case transformations (uppercase, lowercase, title case, etc.) to each element."
      ],
      "metadata": {
        "id": "O41z8dwum2Sc"
      }
    },
    {
      "cell_type": "code",
      "source": [
        "import numpy as np\n",
        "arr = np.array(['python','numpy','pandas'])\n",
        "print(arr)\n",
        "upper = np.char.upper(arr)\n",
        "print(upper)\n",
        "lower = np.char.lower(upper)\n",
        "print(lower)\n",
        "title = np.char.title(arr)\n",
        "print(title)"
      ],
      "metadata": {
        "colab": {
          "base_uri": "https://localhost:8080/"
        },
        "id": "dYzHeDk6wKUR",
        "outputId": "6dd98b65-9a59-431c-ce1b-4ef374890893"
      },
      "execution_count": 3,
      "outputs": [
        {
          "output_type": "stream",
          "name": "stdout",
          "text": [
            "['python' 'numpy' 'pandas']\n",
            "['PYTHON' 'NUMPY' 'PANDAS']\n",
            "['python' 'numpy' 'pandas']\n",
            "['Python' 'Numpy' 'Pandas']\n"
          ]
        }
      ]
    },
    {
      "cell_type": "markdown",
      "source": [
        "##6. Generate a NumPy array of words. Insert a space between each character of every word in the array."
      ],
      "metadata": {
        "id": "JEd25QD0nBBt"
      }
    },
    {
      "cell_type": "code",
      "source": [
        "import numpy as np\n",
        "arr = np.array(['python','numpy','pandas'])\n",
        "print(arr)\n",
        "spaced = np.char.join(' ', arr)\n",
        "print(spaced)"
      ],
      "metadata": {
        "colab": {
          "base_uri": "https://localhost:8080/"
        },
        "id": "W9NGq-LTxWmp",
        "outputId": "f8cbf6dc-8497-4565-ad4f-d2c198d0383d"
      },
      "execution_count": null,
      "outputs": [
        {
          "output_type": "stream",
          "name": "stdout",
          "text": [
            "['python' 'numpy' 'pandas']\n",
            "['p y t h o n' 'n u m p y' 'p a n d a s']\n"
          ]
        }
      ]
    },
    {
      "cell_type": "markdown",
      "source": [
        "##7. Create two 2D NumPy arrays and perform element-wise addition, subtraction, multiplication, and division"
      ],
      "metadata": {
        "id": "_ZABv65jnfHh"
      }
    },
    {
      "cell_type": "code",
      "source": [
        "import numpy as np\n",
        "\n",
        "arr1 = np.array([[27,35,16],[3,54,12]])\n",
        "arr2 = np.array([[6,5,8],[3,4,6]])\n",
        "addition = arr1 + arr2\n",
        "print(addition)\n",
        "subtraction = arr1 - arr2\n",
        "print(subtraction)\n",
        "multiplication = arr1*arr2\n",
        "print(multiplication)\n",
        "division = arr1/arr2\n",
        "print(division)"
      ],
      "metadata": {
        "id": "rjXE6gG6yG22",
        "colab": {
          "base_uri": "https://localhost:8080/"
        },
        "outputId": "7c52c218-6e38-4318-cd75-2f334ea857e7"
      },
      "execution_count": 2,
      "outputs": [
        {
          "output_type": "stream",
          "name": "stdout",
          "text": [
            "[[33 40 24]\n",
            " [ 6 58 18]]\n",
            "[[21 30  8]\n",
            " [ 0 50  6]]\n",
            "[[162 175 128]\n",
            " [  9 216  72]]\n",
            "[[ 4.5  7.   2. ]\n",
            " [ 1.  13.5  2. ]]\n"
          ]
        }
      ]
    },
    {
      "cell_type": "markdown",
      "source": [
        "##8. Use NumPy to create a 5x5 identity matrix, then extract its diagonal elements."
      ],
      "metadata": {
        "id": "vxcuJ-k5nko4"
      }
    },
    {
      "cell_type": "code",
      "source": [
        "import numpy as np\n",
        "arr = np.eye(5)\n",
        "print(f'identity matrix: {arr}')\n",
        "diagonal = np.diagonal(arr)\n",
        "print(f'diagonal elements: {diagonal}')"
      ],
      "metadata": {
        "colab": {
          "base_uri": "https://localhost:8080/"
        },
        "id": "4fMJg8Lppvnh",
        "outputId": "f4dea9ca-b871-403e-ec5c-693c68a3a1d8"
      },
      "execution_count": 4,
      "outputs": [
        {
          "output_type": "stream",
          "name": "stdout",
          "text": [
            "identity matrix: [[1. 0. 0. 0. 0.]\n",
            " [0. 1. 0. 0. 0.]\n",
            " [0. 0. 1. 0. 0.]\n",
            " [0. 0. 0. 1. 0.]\n",
            " [0. 0. 0. 0. 1.]]\n",
            "diagonal elements: [1. 1. 1. 1. 1.]\n"
          ]
        }
      ]
    },
    {
      "cell_type": "markdown",
      "source": [
        "##9. Generate a NumPy array of 100 random integers between 0 and 1000. Find and display all prime numbers in this array."
      ],
      "metadata": {
        "id": "hCtjZqhGnqxA"
      }
    },
    {
      "cell_type": "code",
      "source": [
        "import numpy as np\n",
        "import math\n",
        "arr = np.random.randint(0,1001,100)\n",
        "print(arr)\n",
        "\n",
        "def is_prime(n):\n",
        "    \"\"\"Check if a number is prime.\"\"\"\n",
        "    if n <= 1:\n",
        "        return False\n",
        "    if n <= 3:\n",
        "        return True\n",
        "    if n % 2 == 0 or n % 3 == 0:\n",
        "        return False\n",
        "\n",
        "    for i in range(5, int(math.sqrt(n)) + 1, 6):\n",
        "        if n % i == 0 or n % (i + 2) == 0:\n",
        "            return False\n",
        "    return True\n",
        "\n",
        "prime_numbers = [num for num in arr if is_prime(num)]\n",
        "\n",
        "print(\"\\nPrime Numbers in the Array:\")\n",
        "print(prime_numbers)\n"
      ],
      "metadata": {
        "colab": {
          "base_uri": "https://localhost:8080/"
        },
        "id": "wBp4pHLqroC4",
        "outputId": "8ece348c-bb6a-48fa-c862-274b1b47123c"
      },
      "execution_count": 8,
      "outputs": [
        {
          "output_type": "stream",
          "name": "stdout",
          "text": [
            "[808 522 186 664 270  98  34 316 159 107 386 420 469  37 126 414 982 907\n",
            " 344 706 205 812 335 283 379 330 958 854 687 895 185 210 350 189 918 778\n",
            "  54 520 515 172 509 491 484 476 677 299 676 283 719 307 606 914 842  69\n",
            " 636 262  38 802 644 696  58 468 571  78   8 622 120 124 598 538  41 577\n",
            "  75 147 537 496 153 994 226 827  57 726  16 667 653 125  41  74 781 350\n",
            " 370 948 932 935  44 725 339 756  43 300]\n",
            "\n",
            "Prime Numbers in the Array:\n",
            "[107, 37, 907, 283, 379, 509, 491, 677, 283, 719, 307, 571, 41, 577, 827, 653, 41, 43]\n"
          ]
        }
      ]
    },
    {
      "cell_type": "markdown",
      "source": [
        "##10. Create a NumPy array representing daily temperatures for a month. Calculate and display the weekly averages."
      ],
      "metadata": {
        "id": "uJzPqAS2nw9h"
      }
    },
    {
      "cell_type": "code",
      "source": [
        "import numpy as np\n",
        "\n",
        "daily_temp = np.random.uniform(25,38,30)\n",
        "print(f'Daily temperature of a month: {daily_temp}')\n",
        "\n",
        "weekly_avg = [\n",
        "    np.mean(daily_temp[0:7]),\n",
        "    np.mean(daily_temp[7:14]),\n",
        "    np.mean(daily_temp[14:21]),\n",
        "    np.mean(daily_temp[21:])\n",
        "]\n",
        "\n",
        "for i, avg in enumerate(weekly_avg, 1):\n",
        "  print(f'Week-{i}:{avg:.2f}°C')"
      ],
      "metadata": {
        "id": "K4GVLgqGn2F9",
        "colab": {
          "base_uri": "https://localhost:8080/"
        },
        "outputId": "6b33c15a-6439-4fe9-adf9-20015ff1d511"
      },
      "execution_count": 13,
      "outputs": [
        {
          "output_type": "stream",
          "name": "stdout",
          "text": [
            "Daily temperature of a month: [25.6947205  27.12357713 33.85419014 32.92273192 34.49624008 32.46739269\n",
            " 26.12103252 33.96971111 33.62622148 28.86874308 36.91721364 32.26514145\n",
            " 26.82504315 28.43632422 27.81424776 36.73431576 29.2475378  36.06777035\n",
            " 34.03353189 33.56421591 28.17508356 29.80074914 32.26420976 37.30961503\n",
            " 34.3173072  28.40542416 31.6511054  28.18175891 31.83724162 35.74836418]\n",
            "Week-1:30.38°C\n",
            "Week-2:31.56°C\n",
            "Week-3:32.23°C\n",
            "Week-4:32.17°C\n"
          ]
        }
      ]
    },
    {
      "cell_type": "code",
      "source": [],
      "metadata": {
        "id": "4tlOG_8pz40A"
      },
      "execution_count": null,
      "outputs": []
    }
  ]
}