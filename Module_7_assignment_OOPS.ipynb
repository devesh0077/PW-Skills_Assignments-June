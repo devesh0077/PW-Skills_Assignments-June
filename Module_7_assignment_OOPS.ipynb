{
  "nbformat": 4,
  "nbformat_minor": 0,
  "metadata": {
    "colab": {
      "provenance": []
    },
    "kernelspec": {
      "name": "python3",
      "display_name": "Python 3"
    },
    "language_info": {
      "name": "python"
    }
  },
  "cells": [
    {
      "cell_type": "markdown",
      "source": [
        "##1. What are the five key concepts of Object-Oriented Programming (OOP)?"
      ],
      "metadata": {
        "id": "riESaDg4x7WL"
      }
    },
    {
      "cell_type": "markdown",
      "source": [
        "The five key concepts of Object-Oriented Programming (OOP) are:\n",
        "\n",
        "1. **Class**: A class is a blueprint or template for creating objects. It defines the properties (attributes) and behaviors (methods) that the objects created from the class will have.\n",
        "\n",
        "2. **Object**: An object is an instance of a class. It is a specific implementation of a class with actual values. Objects represent real-world entities and are the building blocks of OOP.\n",
        "\n",
        "3. **Encapsulation**: Encapsulation is the concept of bundling the data (attributes) and methods that operate on the data into a single unit or class. It restricts direct access to some of an object's components, which means that the internal representation of an object is hidden from the outside. This is typically achieved using access modifiers (e.g., private, protected, public).\n",
        "\n",
        "4. **Inheritance**: Inheritance is a mechanism where a new class (called a child or subclass) derives properties and behaviors from an existing class (called a parent or superclass). Inheritance promotes code reusability and establishes a relationship between classes, allowing for hierarchical classification.\n",
        "\n",
        "5. **Polymorphism**: Polymorphism allows objects of different classes to be treated as objects of a common superclass. It enables one interface to be used for a general class of actions. The most common use of polymorphism is when a parent class reference is used to refer to a child class object. Polymorphism can be achieved through method overriding (runtime polymorphism) and method overloading (compile-time polymorphism)."
      ],
      "metadata": {
        "id": "hPJ-SydgyHuJ"
      }
    },
    {
      "cell_type": "markdown",
      "source": [
        "##2. Write a Python class for a `Car` with attributes for `make`, `model`, and `year`. Include a method to display the car's information."
      ],
      "metadata": {
        "id": "Fn1ejAt4yz8I"
      }
    },
    {
      "cell_type": "code",
      "execution_count": null,
      "metadata": {
        "colab": {
          "base_uri": "https://localhost:8080/"
        },
        "id": "vNs4zyoEpmLm",
        "outputId": "bb366dbe-c5a5-458b-82f1-674992e58a7b"
      },
      "outputs": [
        {
          "output_type": "stream",
          "name": "stdout",
          "text": [
            "Car Information: 2024 Volkswagen Golf\n"
          ]
        }
      ],
      "source": [
        "class Car:\n",
        "    def __init__(self, make, model, year):\n",
        "        \"\"\"\n",
        "        Initialize the Car object with make, model, and year attributes.\n",
        "        \"\"\"\n",
        "        self.make = make\n",
        "        self.model = model\n",
        "        self.year = year\n",
        "\n",
        "    def display_info(self):\n",
        "        \"\"\"\n",
        "        Display the information of the car.\n",
        "        \"\"\"\n",
        "        print(f\"Car Information: {self.year} {self.make} {self.model}\")\n",
        "\n",
        "\n",
        "# Example usage\n",
        "car1 = Car(\"Volkswagen\", \"Golf\", 2024)\n",
        "car1.display_info()\n"
      ]
    },
    {
      "cell_type": "markdown",
      "source": [
        "##3. Explain the difference between instance methods and class methods. Provide an example of each."
      ],
      "metadata": {
        "id": "hOAooewQzHVj"
      }
    },
    {
      "cell_type": "markdown",
      "source": [
        "Instance methods and class methods are two types of methods in Python that differ in how they are called and what they operate on.\n",
        "\n",
        "### Instance Methods\n",
        "\n",
        "**Definition**:  \n",
        "Instance methods are the most common type of methods in a class. They operate on an instance of the class (i.e., an object) and have access to instance-specific data. Instance methods automatically take the instance (`self`) as their first argument, which allows them to access and modify instance attributes.\n",
        "\n",
        "**Usage**:  \n",
        "- Used to perform operations that require access to the instance's data.\n",
        "- Can access and modify instance variables.\n",
        "\n",
        "**Example**:"
      ],
      "metadata": {
        "id": "UoarYRUAz23o"
      }
    },
    {
      "cell_type": "code",
      "source": [
        "class Car:\n",
        "    def __init__(self, make, model, year):\n",
        "        self.make = make\n",
        "        self.model = model\n",
        "        self.year = year\n",
        "\n",
        "    def display_info(self):\n",
        "        \"\"\"Instance method to display the car's information.\"\"\"\n",
        "        print(f\"Car Information: {self.year} {self.make} {self.model}\")\n",
        "\n",
        "\n",
        "# Example usage\n",
        "car1 = Car(\"Toyota\", \"Corolla\", 2021)\n",
        "car1.display_info()  # Output: Car Information: 2021 Toyota Corolla\n",
        "\n",
        "#In this example, `display_info` is an instance method. It uses the `self` parameter to access and display the attributes of the instance `car1`."
      ],
      "metadata": {
        "id": "A1CSqjq8y2Cg",
        "colab": {
          "base_uri": "https://localhost:8080/"
        },
        "outputId": "0b737a4c-0d83-4c1d-8728-94856bf9de94"
      },
      "execution_count": null,
      "outputs": [
        {
          "output_type": "stream",
          "name": "stdout",
          "text": [
            "Car Information: 2021 Toyota Corolla\n"
          ]
        }
      ]
    },
    {
      "cell_type": "markdown",
      "source": [
        "\n",
        "### Class Methods\n",
        "\n",
        "**Definition**:  \n",
        "Class methods are methods that are bound to the class rather than to any particular instance of the class. They take a `cls` parameter that represents the class itself. Class methods are defined using the `@classmethod` decorator.\n",
        "\n",
        "**Usage**:  \n",
        "- Used when a method needs to perform an operation that relates to the class itself, rather than any individual instance.\n",
        "- Often used to create factory methods that return instances of the class.\n",
        "\n",
        "**Example**:"
      ],
      "metadata": {
        "id": "E9SBXVTT0Icr"
      }
    },
    {
      "cell_type": "code",
      "source": [
        "class Car:\n",
        "    num_of_wheels = 4  # Class attribute\n",
        "\n",
        "    def __init__(self, make, model, year):\n",
        "        self.make = make\n",
        "        self.model = model\n",
        "        self.year = year\n",
        "\n",
        "    @classmethod\n",
        "    def set_num_of_wheels(cls, wheels):\n",
        "        \"\"\"Class method to set the number of wheels for all cars.\"\"\"\n",
        "        cls.num_of_wheels = wheels\n",
        "\n",
        "    def display_info(self):\n",
        "        \"\"\"Instance method to display the car's information.\"\"\"\n",
        "        print(f\"Car Information: {self.year} {self.make} {self.model} with {self.num_of_wheels} wheels\")\n",
        "\n",
        "\n",
        "# Example usage\n",
        "Car.set_num_of_wheels(6)  # Changes the class attribute 'num_of_wheels' for all instances\n",
        "car1 = Car(\"Toyota\", \"Corolla\", 2021)\n",
        "car1.display_info()  # Output: Car Information: 2021 Toyota Corolla with 6 wheels\n",
        "\n",
        "#In this example, `set_num_of_wheels` is a class method that modifies the class attribute `num_of_wheels`. The class method is called on the class itself (`Car set_num_of_wheels(6)`), not on an instance of the class."
      ],
      "metadata": {
        "id": "d5wXIHgY005J",
        "colab": {
          "base_uri": "https://localhost:8080/"
        },
        "outputId": "ec1a2416-2dcb-424f-e196-d87431bf7b61"
      },
      "execution_count": null,
      "outputs": [
        {
          "output_type": "stream",
          "name": "stdout",
          "text": [
            "Car Information: 2021 Toyota Corolla with 6 wheels\n"
          ]
        }
      ]
    },
    {
      "cell_type": "markdown",
      "source": [
        "### Key Differences\n",
        "\n",
        "1. **Binding**:\n",
        "   - **Instance Methods**: Bound to an instance of the class. The first parameter is `self`, which refers to the instance.\n",
        "   - **Class Methods**: Bound to the class itself. The first parameter is `cls`, which refers to the class.\n",
        "\n",
        "2. **Access**:\n",
        "   - **Instance Methods**: Can access and modify instance-specific data and class attributes.\n",
        "   - **Class Methods**: Can access and modify class-specific data but not instance-specific data directly.\n",
        "\n",
        "3. **Decorators**:\n",
        "   - **Instance Methods**: No special decorator.\n",
        "   - **Class Methods**: Use the `@classmethod` decorator.\n",
        "\n",
        "By understanding these differences, you can decide which type of method best suits your needs when designing a class."
      ],
      "metadata": {
        "id": "aUB29GBp1G1_"
      }
    },
    {
      "cell_type": "markdown",
      "source": [
        "## 4. How does Python implement method overloading? Give an example.\n"
      ],
      "metadata": {
        "id": "HcMrRXD31REy"
      }
    },
    {
      "cell_type": "markdown",
      "source": [
        "\n",
        "Python does not support traditional method overloading (having multiple methods with the same name but different parameters) as in other languages like Java. Instead, Python allows you to use default arguments, *args, and **kwargs to handle different numbers of arguments.\n",
        "\n",
        "Example using Default Arguments and *args:"
      ],
      "metadata": {
        "id": "eTVj_jPm1XOf"
      }
    },
    {
      "cell_type": "code",
      "source": [
        "class Example:\n",
        "    def display(self, *args):\n",
        "        if len(args) == 0:\n",
        "            print(\"No arguments\")\n",
        "        elif len(args) == 1:\n",
        "            print(f\"One argument: {args[0]}\")\n",
        "        else:\n",
        "            print(f\"Multiple arguments: {', '.join(map(str, args))}\")\n",
        "\n",
        "example = Example()\n",
        "example.display()          # No arguments\n",
        "example.display(5)         # One argument: 5\n",
        "example.display(5, 10)     # Multiple arguments: 5, 10\n"
      ],
      "metadata": {
        "colab": {
          "base_uri": "https://localhost:8080/"
        },
        "id": "Za6e9qP61gR3",
        "outputId": "741a041a-05c9-47eb-81af-e2116063c5c1"
      },
      "execution_count": null,
      "outputs": [
        {
          "output_type": "stream",
          "name": "stdout",
          "text": [
            "No arguments\n",
            "One argument: 5\n",
            "Multiple arguments: 5, 10\n"
          ]
        }
      ]
    },
    {
      "cell_type": "markdown",
      "source": [
        "## 5. What are the three types of access modifiers in Python? How are they denoted?"
      ],
      "metadata": {
        "id": "lrS_TB_a1pzJ"
      }
    },
    {
      "cell_type": "markdown",
      "source": [
        "In Python, there are three types of access modifiers that define the accessibility of class attributes and methods:\n",
        "\n",
        "1. **Public**:\n",
        "   - Accessible from anywhere (inside or outside the class).\n",
        "   - **Denoted by**: No underscore before the variable name.\n",
        "   - **Example**: `self.public_variable`\n",
        "\n",
        "2. **Protected**:\n",
        "   - Intended to be accessible within the class and its subclasses.\n",
        "   - **Denoted by**: A single underscore (`_`) before the variable name.\n",
        "   - **Example**: `self._protected_variable`\n",
        "\n",
        "3. **Private**:\n",
        "   - Accessible only within the class where it is defined.\n",
        "   - **Denoted by**: A double underscore (`__`) before the variable name.\n",
        "   - **Example**: `self.__private_variable`\n",
        "\n",
        "**Note**: Python does not enforce strict access control. The conventions (single or double underscores) serve as a guideline for developers to indicate the intended scope. However, private members can still be accessed using name mangling (e.g., `_ClassName__private_variable`)."
      ],
      "metadata": {
        "id": "6_CNyrzi1qda"
      }
    },
    {
      "cell_type": "markdown",
      "source": [
        "##6. Describe the five types of inheritance in Python. Provide a simple example of multiple inheritance."
      ],
      "metadata": {
        "id": "9jCNG74W19zC"
      }
    },
    {
      "cell_type": "markdown",
      "source": [
        "### Five Types of Inheritance in Python:\n",
        "\n",
        "1. **Single Inheritance**: A class inherits from one parent class.\n",
        "2. **Multiple Inheritance**: A class inherits from more than one parent class.\n",
        "3. **Multilevel Inheritance**: A class is derived from a class that is also derived from another class.\n",
        "4. **Hierarchical Inheritance**: Multiple classes inherit from the same parent class.\n",
        "5. **Hybrid Inheritance**: A combination of more than one type of inheritance.\n",
        "\n",
        "### Example of **Multiple Inheritance**:"
      ],
      "metadata": {
        "id": "pl_LP4s8P122"
      }
    },
    {
      "cell_type": "code",
      "source": [
        "class Parent1:\n",
        "    def method1(self):\n",
        "        print(\"Parent1 method\")\n",
        "\n",
        "class Parent2:\n",
        "    def method2(self):\n",
        "        print(\"Parent2 method\")\n",
        "\n",
        "class Child(Parent1, Parent2):\n",
        "    pass\n",
        "\n",
        "child = Child()\n",
        "child.method1()  # From Parent1\n",
        "child.method2()  # From Parent2"
      ],
      "metadata": {
        "colab": {
          "base_uri": "https://localhost:8080/"
        },
        "id": "tRhrPkJKRQ8t",
        "outputId": "0a4de035-ab39-40ea-f7a5-3198c568cfc4"
      },
      "execution_count": 1,
      "outputs": [
        {
          "output_type": "stream",
          "name": "stdout",
          "text": [
            "Parent1 method\n",
            "Parent2 method\n"
          ]
        }
      ]
    },
    {
      "cell_type": "markdown",
      "source": [
        "##7. What is the Method Resolution Order (MRO) in Python? How can you retrieve it programmatically?"
      ],
      "metadata": {
        "id": "GHPHhUPsP6bB"
      }
    },
    {
      "cell_type": "markdown",
      "source": [
        "### Method Resolution Order (MRO) in Python:\n",
        "\n",
        "MRO is the order in which Python looks for a method in a class and its base classes when a method is called. In the case of multiple inheritance, MRO ensures the correct method is executed.\n",
        "\n",
        "### How to Retrieve MRO Programmatically:\n",
        "\n",
        "You can use the `__mro__` attribute or the `mro()` method to view the MRO of a class."
      ],
      "metadata": {
        "id": "dMuFGWzxRcs7"
      }
    },
    {
      "cell_type": "code",
      "source": [
        "class A:\n",
        "    pass\n",
        "\n",
        "class B(A):\n",
        "    pass\n",
        "\n",
        "print(B.__mro__)  # Using __mro__\n",
        "print(B.mro())    # Using mro() method"
      ],
      "metadata": {
        "colab": {
          "base_uri": "https://localhost:8080/"
        },
        "id": "eTeEbv4YRsmq",
        "outputId": "01304447-9d47-4a4f-e8f2-192fb2269d27"
      },
      "execution_count": 2,
      "outputs": [
        {
          "output_type": "stream",
          "name": "stdout",
          "text": [
            "(<class '__main__.B'>, <class '__main__.A'>, <class 'object'>)\n",
            "[<class '__main__.B'>, <class '__main__.A'>, <class 'object'>]\n"
          ]
        }
      ]
    },
    {
      "cell_type": "markdown",
      "source": [
        "## 8. Create an abstract base class `Shape` with an abstract method `area()`. Then create two subclasses `Circle` and `Rectangle` that implement the `area()` method."
      ],
      "metadata": {
        "id": "QSFvQNtoRxH_"
      }
    },
    {
      "cell_type": "code",
      "source": [
        "from abc import ABC, abstractmethod\n",
        "\n",
        "class Shape(ABC):\n",
        "    @abstractmethod\n",
        "    def area(self):\n",
        "        pass\n",
        "\n",
        "class Circle(Shape):\n",
        "    def __init__(self, radius):\n",
        "        self.radius = radius\n",
        "\n",
        "    def area(self):\n",
        "        return 3.14 * self.radius * self.radius\n",
        "\n",
        "class Rectangle(Shape):\n",
        "    def __init__(self, width, height):\n",
        "        self.width = width\n",
        "        self.height = height\n",
        "\n",
        "    def area(self):\n",
        "        return self.width * self.height\n",
        "\n",
        "# Example usage:\n",
        "circle = Circle(5)\n",
        "rectangle = Rectangle(4, 6)\n",
        "\n",
        "print(circle.area())     # Output: 78.5\n",
        "print(rectangle.area())  # Output: 24\n"
      ],
      "metadata": {
        "colab": {
          "base_uri": "https://localhost:8080/"
        },
        "id": "aHZF5YSbS2l-",
        "outputId": "6b009ee4-0d7b-4fc8-c842-e4dd6a38af84"
      },
      "execution_count": 3,
      "outputs": [
        {
          "output_type": "stream",
          "name": "stdout",
          "text": [
            "78.5\n",
            "24\n"
          ]
        }
      ]
    },
    {
      "cell_type": "markdown",
      "source": [
        "##9. Demonstrate polymorphism by creating a function that can work with different shape objects to calculate and print their areas."
      ],
      "metadata": {
        "id": "o79aHpMDSwhm"
      }
    },
    {
      "cell_type": "code",
      "source": [
        "def print_area(shape):\n",
        "    print(f\"The area is: {shape.area()}\")\n",
        "\n",
        "# Example usage:\n",
        "circle = Circle(5)\n",
        "rectangle = Rectangle(4, 6)\n",
        "\n",
        "print_area(circle)       # Output: The area is: 78.5\n",
        "print_area(rectangle)    # Output: The area is: 24\n"
      ],
      "metadata": {
        "colab": {
          "base_uri": "https://localhost:8080/"
        },
        "id": "wL58i3SwTKcj",
        "outputId": "0dd809c5-af64-4527-e397-279348e39510"
      },
      "execution_count": 4,
      "outputs": [
        {
          "output_type": "stream",
          "name": "stdout",
          "text": [
            "The area is: 78.5\n",
            "The area is: 24\n"
          ]
        }
      ]
    },
    {
      "cell_type": "markdown",
      "source": [
        " ## 10. Implement encapsulation in a `BankAccount` class with private attributes for `balance` and `account_number`. Include methods for deposit withdrawal, and balance inquiry."
      ],
      "metadata": {
        "id": "nDhJyzJwTPfo"
      }
    },
    {
      "cell_type": "code",
      "source": [
        "class BankAccount:\n",
        "    def __init__(self, account_number, initial_balance=0):\n",
        "        self.__account_number = account_number  # Private attribute\n",
        "        self.__balance = initial_balance        # Private attribute\n",
        "\n",
        "    def deposit(self, amount):\n",
        "        if amount > 0:\n",
        "            self.__balance += amount\n",
        "            print(f\"Deposited: {amount}\")\n",
        "        else:\n",
        "            print(\"Deposit amount must be positive!\")\n",
        "\n",
        "    def withdraw(self, amount):\n",
        "        if 0 < amount <= self.__balance:\n",
        "            self.__balance -= amount\n",
        "            print(f\"Withdrew: {amount}\")\n",
        "        else:\n",
        "            print(\"Insufficient funds or invalid amount!\")\n",
        "\n",
        "    def get_balance(self):\n",
        "        return self.__balance\n",
        "\n",
        "    def get_account_number(self):\n",
        "        return self.__account_number\n",
        "\n",
        "# Example usage:\n",
        "account = BankAccount(\"12345678\", 1000)\n",
        "account.deposit(500)\n",
        "account.withdraw(300)\n",
        "print(f\"Balance: {account.get_balance()}\")  # Output: Balance: 1200"
      ],
      "metadata": {
        "colab": {
          "base_uri": "https://localhost:8080/"
        },
        "id": "r0OOAxO5TkG0",
        "outputId": "d7e0d00f-8179-4d00-f904-810d447cee36"
      },
      "execution_count": 5,
      "outputs": [
        {
          "output_type": "stream",
          "name": "stdout",
          "text": [
            "Deposited: 500\n",
            "Withdrew: 300\n",
            "Balance: 1200\n"
          ]
        }
      ]
    },
    {
      "cell_type": "markdown",
      "source": [
        "##11. Write a class that overrides the `__str__` and `__add__` magic methods. What will these methods allow you to do?"
      ],
      "metadata": {
        "id": "SwZSfC3aTnT7"
      }
    },
    {
      "cell_type": "code",
      "source": [
        "class Point:\n",
        "    def __init__(self, x, y):\n",
        "        self.x = x\n",
        "        self.y = y\n",
        "\n",
        "    # Override __str__ to print the point nicely\n",
        "    def __str__(self):\n",
        "        return f\"Point({self.x}, {self.y})\"\n",
        "\n",
        "    # Override __add__ to add two points\n",
        "    def __add__(self, other):\n",
        "        return Point(self.x + other.x, self.y + other.y)\n",
        "\n",
        "# Example usage:\n",
        "p1 = Point(2, 3)\n",
        "p2 = Point(4, 5)\n",
        "\n",
        "print(p1)              # Output: Point(2, 3)\n",
        "print(p1 + p2)         # Output: Point(6, 8)\n"
      ],
      "metadata": {
        "colab": {
          "base_uri": "https://localhost:8080/"
        },
        "id": "cdcYDMcsTmKM",
        "outputId": "396ef2e0-632c-48e0-e64a-dbc29a233a59"
      },
      "execution_count": 6,
      "outputs": [
        {
          "output_type": "stream",
          "name": "stdout",
          "text": [
            "Point(2, 3)\n",
            "Point(6, 8)\n"
          ]
        }
      ]
    },
    {
      "cell_type": "markdown",
      "source": [
        " ## 12. Create a decorator that measures and prints the execution time of a function."
      ],
      "metadata": {
        "id": "Wms0WfBlUBJX"
      }
    },
    {
      "cell_type": "code",
      "source": [
        "import time\n",
        "\n",
        "def execution_time(func):\n",
        "    def wrapper(*args, **kwargs):\n",
        "        start_time = time.time()\n",
        "        result = func(*args, **kwargs)\n",
        "        end_time = time.time()\n",
        "        print(f\"Execution time: {end_time - start_time} seconds\")\n",
        "        return result\n",
        "    return wrapper\n",
        "\n",
        "# Example usage:\n",
        "@execution_time\n",
        "def example_function():\n",
        "    time.sleep(2)  # Simulates a function taking 2 seconds to run\n",
        "\n",
        "example_function()\n"
      ],
      "metadata": {
        "id": "_PKhiQ9SUMc-"
      },
      "execution_count": null,
      "outputs": []
    },
    {
      "cell_type": "markdown",
      "source": [
        " ## 13. Explain the concept of the Diamond Problem in multiple inheritance. How does Python resolve it?"
      ],
      "metadata": {
        "id": "BtxfpUAGUbbV"
      }
    },
    {
      "cell_type": "markdown",
      "source": [
        "The **Diamond Problem** occurs in multiple inheritance when a class inherits from two classes that both inherit from a common base class, creating an ambiguity about which version of the base class method should be used.\n",
        "\n",
        "### Python's Resolution: **Method Resolution Order (MRO)**\n",
        "Python uses the **C3 linearization algorithm** to resolve the Diamond Problem. It follows the **MRO**, which determines the order in which classes are searched when executing a method. You can check the MRO using:\n",
        "\n",
        "```python\n",
        "print(D.mro())\n",
        "```\n",
        "\n",
        "This will print the order, ensuring no ambiguity."
      ],
      "metadata": {
        "id": "o21K90DTU18H"
      }
    },
    {
      "cell_type": "code",
      "source": [
        "# Example\n",
        "class A:\n",
        "    def greet(self):\n",
        "        print(\"Hello from A\")\n",
        "\n",
        "class B(A):\n",
        "    def greet(self):\n",
        "        print(\"Hello from B\")\n",
        "\n",
        "class C(A):\n",
        "    def greet(self):\n",
        "        print(\"Hello from C\")\n",
        "\n",
        "class D(B, C):\n",
        "    pass\n",
        "\n",
        "d = D()\n",
        "d.greet()  # Which 'greet' is called? B's or C's?\n"
      ],
      "metadata": {
        "colab": {
          "base_uri": "https://localhost:8080/"
        },
        "id": "lsx9Jr39VAre",
        "outputId": "c74f401b-c13e-403d-b335-b98568cb625f"
      },
      "execution_count": 7,
      "outputs": [
        {
          "output_type": "stream",
          "name": "stdout",
          "text": [
            "Hello from B\n"
          ]
        }
      ]
    },
    {
      "cell_type": "markdown",
      "source": [
        "##  14. Write a class method that keeps track of the number of instances created from a class."
      ],
      "metadata": {
        "id": "q2z1S8lHVImv"
      }
    },
    {
      "cell_type": "code",
      "source": [
        "class MyClass:\n",
        "    instance_count = 0  # Class attribute to track instance count\n",
        "\n",
        "    def __init__(self):\n",
        "        MyClass.instance_count += 1\n",
        "\n",
        "    @classmethod\n",
        "    def get_instance_count(cls):\n",
        "        return cls.instance_count\n",
        "\n",
        "# Example usage:\n",
        "a = MyClass()\n",
        "b = MyClass()\n",
        "\n",
        "print(MyClass.get_instance_count())  # Output: 2\n"
      ],
      "metadata": {
        "colab": {
          "base_uri": "https://localhost:8080/"
        },
        "id": "yMFM9TJgVX6w",
        "outputId": "52f7cb59-c24e-48ef-8a75-e6a342c5f301"
      },
      "execution_count": 8,
      "outputs": [
        {
          "output_type": "stream",
          "name": "stdout",
          "text": [
            "2\n"
          ]
        }
      ]
    },
    {
      "cell_type": "markdown",
      "source": [
        " ## 15. Implement a static method in a class that checks if a given year is a leap year."
      ],
      "metadata": {
        "id": "ZcRp_04HVcSo"
      }
    },
    {
      "cell_type": "code",
      "source": [
        "class Year:\n",
        "    @staticmethod\n",
        "    def is_leap_year(year):\n",
        "        if (year % 4 == 0 and year % 100 != 0) or (year % 400 == 0):\n",
        "            return True\n",
        "        return False\n",
        "\n",
        "# Example usage:\n",
        "print(Year.is_leap_year(2020))  # Output: True\n",
        "print(Year.is_leap_year(2021))  # Output: False\n"
      ],
      "metadata": {
        "colab": {
          "base_uri": "https://localhost:8080/"
        },
        "id": "IDs8BXueVoaS",
        "outputId": "6630e16e-7d36-4af6-81ae-c95705e4ecc4"
      },
      "execution_count": 9,
      "outputs": [
        {
          "output_type": "stream",
          "name": "stdout",
          "text": [
            "True\n",
            "False\n"
          ]
        }
      ]
    }
  ]
}