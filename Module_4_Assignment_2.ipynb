{
  "nbformat": 4,
  "nbformat_minor": 0,
  "metadata": {
    "colab": {
      "provenance": []
    },
    "kernelspec": {
      "name": "python3",
      "display_name": "Python 3"
    },
    "language_info": {
      "name": "python"
    }
  },
  "cells": [
    {
      "cell_type": "markdown",
      "source": [
        "1. Write a code to revere a string."
      ],
      "metadata": {
        "id": "UEf4aut6VStU"
      }
    },
    {
      "cell_type": "code",
      "source": [
        "string_ = input('Enter the String: ')\n",
        "reverse_ = string_[::-1]\n",
        "print(reverse_)"
      ],
      "metadata": {
        "colab": {
          "base_uri": "https://localhost:8080/"
        },
        "id": "KQ7EjhVEX3Su",
        "outputId": "1a506e74-9dfd-49c9-8a2e-c59ab6277ac5"
      },
      "execution_count": null,
      "outputs": [
        {
          "output_type": "stream",
          "name": "stdout",
          "text": [
            "Enter the String: Devesh\n",
            "hseveD\n"
          ]
        }
      ]
    },
    {
      "cell_type": "markdown",
      "source": [
        "2. Write a code to count the number vowels in a string."
      ],
      "metadata": {
        "id": "bEEbowNgZaB4"
      }
    },
    {
      "cell_type": "code",
      "source": [
        "def countstring(x):\n",
        "  vowels = 'aeiouAEIOU'\n",
        "  count = 0\n",
        "  for char in x:\n",
        "    if char in vowels:\n",
        "      count +=1\n",
        "  return count\n",
        "\n",
        "string_ = input('Enter the String: ')\n",
        "\n",
        "result = countstring(string_)\n",
        "\n",
        "print(result)"
      ],
      "metadata": {
        "id": "z_lvVVX7Z_v9",
        "colab": {
          "base_uri": "https://localhost:8080/"
        },
        "outputId": "443f60b1-a3b9-48ff-a405-4c777dc68f46"
      },
      "execution_count": null,
      "outputs": [
        {
          "output_type": "stream",
          "name": "stdout",
          "text": [
            "Enter the String: Harshita\n",
            "3\n"
          ]
        }
      ]
    },
    {
      "cell_type": "markdown",
      "source": [
        "3. Write code to check if a given string is a palindrome or not."
      ],
      "metadata": {
        "id": "05NZ3-9Y0Jyr"
      }
    },
    {
      "cell_type": "code",
      "source": [
        "given = input('Enter the string to check: ')\n",
        "filtering = given.replace(\" \",\"\").lower()\n",
        "if filtering == filtering[::-1]:\n",
        "  print('Palindrome')\n",
        "else:\n",
        "  print('Not Palindrome')"
      ],
      "metadata": {
        "colab": {
          "base_uri": "https://localhost:8080/"
        },
        "id": "zfn8IPp602FB",
        "outputId": "f2c26b85-83fd-4fe1-c787-05cfc16b4708"
      },
      "execution_count": null,
      "outputs": [
        {
          "output_type": "stream",
          "name": "stdout",
          "text": [
            "Enter the string to check: Nitin\n",
            "Palindrome\n"
          ]
        }
      ]
    },
    {
      "cell_type": "markdown",
      "source": [
        "4. Write a code to check if two given strings are anagrams of each others."
      ],
      "metadata": {
        "id": "Mz2ZiNzS-CXy"
      }
    },
    {
      "cell_type": "code",
      "source": [
        "def angram(str1, str2):\n",
        "  str1 = str1.replace(' ','').lower()\n",
        "  str2 = str2.replace(' ','').lower()\n",
        "  return sorted(str1) == sorted(str2)\n",
        "\n",
        "string1 = input('Enter string 1: ')\n",
        "string2 = input('Enter string 2: ')\n",
        "\n",
        "if angram(string1, string2):\n",
        "  print('Angrams')\n",
        "else:\n",
        "  print('Not Angrams')"
      ],
      "metadata": {
        "colab": {
          "base_uri": "https://localhost:8080/"
        },
        "id": "ZKndNR8bBaSi",
        "outputId": "0ad02c61-66a1-4f8d-c78d-246378c22ed8"
      },
      "execution_count": null,
      "outputs": [
        {
          "output_type": "stream",
          "name": "stdout",
          "text": [
            "Enter string 1: dgnkj\n",
            "Enter string 2: kdkals\n",
            "Not Angrams\n"
          ]
        }
      ]
    },
    {
      "cell_type": "markdown",
      "source": [
        "5. Write a code to find all occurrences of a given substring within another string."
      ],
      "metadata": {
        "id": "ouGuWj_IYNyv"
      }
    },
    {
      "cell_type": "code",
      "source": [
        "def checker(main, sub):\n",
        "  occurrence = []\n",
        "  start = 0\n",
        "  while True:\n",
        "    start=main.find(sub, start)\n",
        "    if start == -1:\n",
        "      break\n",
        "    occurrence.append(start)\n",
        "    start +=1\n",
        "  return occurrence\n",
        "\n",
        "main_string= input('Enter the main string')\n",
        "sub_string= input('Enter the sub string')\n",
        "\n",
        "result = checker(main_string, sub_string)\n",
        "\n",
        "if result:\n",
        "  print(f'The substring \"{sub_string}\" is found at positions: {result}')\n",
        "else:\n",
        "  print(f'The substring \"{sub_string}\" is not found in the main string.')"
      ],
      "metadata": {
        "colab": {
          "base_uri": "https://localhost:8080/"
        },
        "id": "YpCuLKUvc0HQ",
        "outputId": "58bc347e-d516-4c6b-9169-b8b4f60f1bd7"
      },
      "execution_count": null,
      "outputs": [
        {
          "output_type": "stream",
          "name": "stdout",
          "text": [
            "Enter the main stringmarry had a little lamb and little bag.\n",
            "Enter the sub stringlittle\n",
            "The substring \"little\" is found at positions: [12, 28]\n"
          ]
        }
      ]
    },
    {
      "cell_type": "markdown",
      "source": [
        "6. Write a code to perform basis string compression using the counts of repeated characters."
      ],
      "metadata": {
        "id": "TPaZd3u1u_gw"
      }
    },
    {
      "cell_type": "code",
      "source": [
        "def compress(s):\n",
        "  compressed = []\n",
        "  count = 1\n",
        "  prev_char = s[0]\n",
        "  for char in s[1:]:\n",
        "    if char == prev_char:\n",
        "      count +=1\n",
        "    else:\n",
        "      compressed.append(prev_char + str(count))\n",
        "      count = 1\n",
        "      prev_char = char\n",
        "  compressed.append(prev_char + str(count))\n",
        "  compressed_string = ''.join(compressed)\n",
        "  return compressed_string\n",
        "\n",
        "\n",
        "test_string = input('Enter the test string: ')\n",
        "print(f'Test String: {test_string}')\n",
        "\n",
        "compressed = compress(test_string)\n",
        "\n",
        "print(f'Compressed String: {compressed}')"
      ],
      "metadata": {
        "colab": {
          "base_uri": "https://localhost:8080/"
        },
        "id": "BVyuR_o45OZ6",
        "outputId": "f44a92e7-a125-453f-8c25-453bc46ff691"
      },
      "execution_count": null,
      "outputs": [
        {
          "output_type": "stream",
          "name": "stdout",
          "text": [
            "Enter the test string: aaaggjn\n",
            "Test String: aaaggjn\n",
            "Compressed String: a3g2j1n1\n"
          ]
        }
      ]
    },
    {
      "cell_type": "markdown",
      "source": [
        "7. Write a code to determine if a string has all unique characters."
      ],
      "metadata": {
        "id": "pbPD0M1D-Fgk"
      }
    },
    {
      "cell_type": "code",
      "source": [
        "def unique(s):\n",
        "  unique_char = set()\n",
        "  for char in s:\n",
        "    if char in unique_char:\n",
        "      return False\n",
        "    else:\n",
        "      unique_char.add(char)\n",
        "  return True\n",
        "\n",
        "result = unique(test_string)\n",
        "\n",
        "test_string = input('Enter unique characters: ')\n",
        "print(f'{test_string} has all unique characters: {result}')"
      ],
      "metadata": {
        "colab": {
          "base_uri": "https://localhost:8080/"
        },
        "id": "cl1gO-Q69QHG",
        "outputId": "49c42b1b-3410-4dbf-c6b9-ba86c34ec5fa"
      },
      "execution_count": null,
      "outputs": [
        {
          "output_type": "stream",
          "name": "stdout",
          "text": [
            "Enter unique characters: adcf\n",
            "adcf has all unique characters: True\n"
          ]
        }
      ]
    },
    {
      "cell_type": "markdown",
      "source": [
        "8. Write a code to convert a given string to uppercase or lowercase."
      ],
      "metadata": {
        "id": "rsOl2xRpD-tm"
      }
    },
    {
      "cell_type": "code",
      "source": [
        "given = input('Enter the string: ')\n",
        "convert =  input(\"Enter 'U' for Uppercase or 'L' for Lowercase: \")\n",
        "case_change = convert.strip()\n",
        "if case_change == 'U' or case_change == 'u':\n",
        "  u = given.upper()\n",
        "  print(u)\n",
        "\n",
        "elif case_change == 'L' or case_change == 'l':\n",
        "  l = given.lower()\n",
        "  print(l)\n",
        "else:\n",
        "  print('Please give input as U or L')"
      ],
      "metadata": {
        "colab": {
          "base_uri": "https://localhost:8080/"
        },
        "id": "Nm_A_9xrDJqW",
        "outputId": "ac7910ac-3d91-47ba-aa46-8d8c7c4e7fcf"
      },
      "execution_count": null,
      "outputs": [
        {
          "output_type": "stream",
          "name": "stdout",
          "text": [
            "Enter the string: GHJFSLDHJDFJH\n",
            "Enter 'U' for Uppercase or 'L' for Lowercase: l\n",
            "ghjfsldhjdfjh\n"
          ]
        }
      ]
    },
    {
      "cell_type": "markdown",
      "source": [
        "9. Write a code to count the number of words in a string."
      ],
      "metadata": {
        "id": "wiBHHyBvRemi"
      }
    },
    {
      "cell_type": "code",
      "source": [
        "string = input('Enter the string: ')\n",
        "splitted = string.split()\n",
        "numbers = len(splitted)\n",
        "print(numbers)"
      ],
      "metadata": {
        "colab": {
          "base_uri": "https://localhost:8080/"
        },
        "id": "jBgkGCHSHgLY",
        "outputId": "b459e1f5-0094-45f7-bef2-ad09112acd62"
      },
      "execution_count": null,
      "outputs": [
        {
          "output_type": "stream",
          "name": "stdout",
          "text": [
            "Enter the string: fsfbj dbsgjk sdh dhgds gsdklgjnsljh ghsdjkgh.\n",
            "6\n"
          ]
        }
      ]
    },
    {
      "cell_type": "markdown",
      "source": [
        "10. Write a code to concatenate two strings without using the + operator."
      ],
      "metadata": {
        "id": "0uJX-SdXc0kb"
      }
    },
    {
      "cell_type": "code",
      "source": [
        "str1 = 'Hello'\n",
        "str2 = 'World'\n",
        "joined = ' '.join([str1, str2])\n",
        "print(joined)"
      ],
      "metadata": {
        "colab": {
          "base_uri": "https://localhost:8080/"
        },
        "id": "Dx05S5zXSNQt",
        "outputId": "92dc8725-c886-4fc2-a9a1-ed21e37b3e16"
      },
      "execution_count": null,
      "outputs": [
        {
          "output_type": "stream",
          "name": "stdout",
          "text": [
            "Hello World\n"
          ]
        }
      ]
    },
    {
      "cell_type": "markdown",
      "source": [
        "11. Write a code to remove all occurrences of a specific element from a list."
      ],
      "metadata": {
        "id": "PTr5tUR9fnmG"
      }
    },
    {
      "cell_type": "code",
      "source": [
        "def eliminate(s):\n",
        "  for i in s[:]:\n",
        "    if i == 8:\n",
        "      sample_list.remove(i)\n",
        "  return s\n",
        "sample_list = [2,8,11,23,15,9,8,8,'Pwskills',23.5,8,5,8]\n",
        "result = eliminate(sample_list)\n",
        "print(result)\n"
      ],
      "metadata": {
        "colab": {
          "base_uri": "https://localhost:8080/"
        },
        "id": "fVV79ukLfLLq",
        "outputId": "6a98c484-9a9f-4fde-a708-c1765bb645a4"
      },
      "execution_count": null,
      "outputs": [
        {
          "output_type": "stream",
          "name": "stdout",
          "text": [
            "[2, 11, 23, 15, 9, 'Pwskills', 23.5, 5]\n"
          ]
        }
      ]
    },
    {
      "cell_type": "markdown",
      "source": [
        "12. Implement a code to find the second largest number in a given list of integers."
      ],
      "metadata": {
        "id": "rdjH9VTyukJu"
      }
    },
    {
      "cell_type": "code",
      "source": [
        "def scndlargest(s):\n",
        "  ordered = sorted(s)\n",
        "  return ordered[-2]\n",
        "\n",
        "sample_list = [2,8,11,23,15,9,8,8,25,8,5,8]\n",
        "result = scndlargest(sample_list)\n",
        "print(result)"
      ],
      "metadata": {
        "colab": {
          "base_uri": "https://localhost:8080/"
        },
        "id": "yXg7AIq7sxl3",
        "outputId": "f756c6e5-fcff-465a-bb88-85c71cd5f891"
      },
      "execution_count": null,
      "outputs": [
        {
          "output_type": "stream",
          "name": "stdout",
          "text": [
            "23\n"
          ]
        }
      ]
    },
    {
      "cell_type": "markdown",
      "source": [
        "13. Create a code to count the occurrences of each element in a list and return a dictionary with elements as keys and their counts as values."
      ],
      "metadata": {
        "id": "JIekmsr7xW_F"
      }
    },
    {
      "cell_type": "code",
      "source": [
        "def counting(s):\n",
        "  element_dict = {}\n",
        "  for elem in s:\n",
        "    if elem not in element_dict:\n",
        "      element_dict[elem] = 1\n",
        "    else:\n",
        "      element_dict[elem] +=1\n",
        "  return element_dict\n",
        "\n",
        "sample_list = [2,5,6,3,2,5,4,8,6,3,5,5,1,1,1,1,6]\n",
        "result =  counting(sample_list)\n",
        "print(result)"
      ],
      "metadata": {
        "colab": {
          "base_uri": "https://localhost:8080/"
        },
        "id": "EmBoDtMHvFAy",
        "outputId": "b7b4b5f6-9949-4ca8-9a7a-e798b91d5fc0"
      },
      "execution_count": null,
      "outputs": [
        {
          "output_type": "stream",
          "name": "stdout",
          "text": [
            "{2: 2, 5: 4, 6: 3, 3: 2, 4: 1, 8: 1, 1: 4}\n"
          ]
        }
      ]
    },
    {
      "cell_type": "markdown",
      "source": [
        "14. Write a code to reverse a list in-place without using any built-in reverse function."
      ],
      "metadata": {
        "id": "qokcMynuDHC7"
      }
    },
    {
      "cell_type": "code",
      "source": [
        "def reverse_list_in_place(lst):\n",
        "    left = 0\n",
        "    right = len(lst) - 1\n",
        "    while left < right:\n",
        "        lst[left], lst[right] = lst[right], lst[left]\n",
        "\n",
        "        left += 1\n",
        "        right -= 1\n",
        "\n",
        "sample_list = [1, 2, 3, 4, 5]\n",
        "reverse_list_in_place(sample_list)\n",
        "print(sample_list)"
      ],
      "metadata": {
        "colab": {
          "base_uri": "https://localhost:8080/"
        },
        "id": "pDx_UwhyCxPV",
        "outputId": "02b1deac-f243-4e4d-9616-112848b4efdc"
      },
      "execution_count": null,
      "outputs": [
        {
          "output_type": "stream",
          "name": "stdout",
          "text": [
            "[5, 4, 3, 2, 1]\n"
          ]
        }
      ]
    },
    {
      "cell_type": "markdown",
      "source": [
        "15. Implement a code to find and remove duplicates from a list while preserving the original order of elements."
      ],
      "metadata": {
        "id": "mGK04UoZECeh"
      }
    },
    {
      "cell_type": "code",
      "source": [
        "def duplicate(s):\n",
        "  step = []\n",
        "  for i in s:\n",
        "    if i not in step:\n",
        "      step.append(i)\n",
        "  return step\n",
        "sample_list = [2,5,6,3,2,5,4,8,6,3,5,5,1,1,1,1,6]\n",
        "result = duplicate(sample_list)\n",
        "print(result)"
      ],
      "metadata": {
        "colab": {
          "base_uri": "https://localhost:8080/"
        },
        "id": "1KaklQhyEADe",
        "outputId": "d450d430-0a5e-4f4a-c271-2856b0bc0761"
      },
      "execution_count": null,
      "outputs": [
        {
          "output_type": "stream",
          "name": "stdout",
          "text": [
            "[2, 5, 6, 3, 4, 8, 1]\n"
          ]
        }
      ]
    },
    {
      "cell_type": "markdown",
      "source": [
        "16. Create a code to check if a given list is sorted (either in ascending or descending order) or not."
      ],
      "metadata": {
        "id": "ikPLuA9oLKkl"
      }
    },
    {
      "cell_type": "code",
      "source": [
        "sample_list = [2,5,6,3,2,5,4,8,6,3,5,5,1,1,1,1,6]\n",
        "sample_copy = sample_list[:]\n",
        "sample_copy.sort()\n",
        "if sample_copy == sample_list:\n",
        "  print('given list is sorted')\n",
        "else:\n",
        "  print('given list is not sorted')"
      ],
      "metadata": {
        "colab": {
          "base_uri": "https://localhost:8080/"
        },
        "id": "TsrNNpsqKR6l",
        "outputId": "3be53d83-a70a-4e3c-dbef-099eed6cbd0f"
      },
      "execution_count": null,
      "outputs": [
        {
          "output_type": "stream",
          "name": "stdout",
          "text": [
            "given list is not sorted\n"
          ]
        }
      ]
    },
    {
      "cell_type": "markdown",
      "source": [
        "18. Implement a code to find the intersection of two given lists.\n"
      ],
      "metadata": {
        "id": "wZA3jii-TocJ"
      }
    },
    {
      "cell_type": "code",
      "source": [
        "def intersect(x,y):\n",
        "  outcome = set(x).intersection(set(y))\n",
        "  return outcome\n",
        "\n",
        "list1 = [2,4,8,6,1,9,4,3]\n",
        "list2 = [5,9,4,4,3,]\n",
        "result = intersect(list1,list2)\n",
        "print(result)"
      ],
      "metadata": {
        "colab": {
          "base_uri": "https://localhost:8080/"
        },
        "id": "DbqRfIF6OXir",
        "outputId": "852b3f76-165c-4ce6-b0e9-92608cc3b460"
      },
      "execution_count": null,
      "outputs": [
        {
          "output_type": "stream",
          "name": "stdout",
          "text": [
            "{9, 3, 4}\n"
          ]
        }
      ]
    },
    {
      "cell_type": "markdown",
      "source": [
        "19. Create a code to find the union of two lists without duplicates."
      ],
      "metadata": {
        "id": "gR0IYh3Qoal4"
      }
    },
    {
      "cell_type": "code",
      "source": [
        "def union_(x,y):\n",
        "  outcome = set(x).union(set(y))\n",
        "  return outcome\n",
        "\n",
        "list1 = [2,4,8,6,1,9,4,3]\n",
        "list2 = [5,9,4,4,3,]\n",
        "result = union_(list1,list2)\n",
        "print(result)"
      ],
      "metadata": {
        "colab": {
          "base_uri": "https://localhost:8080/"
        },
        "id": "3OxaoipvnyVv",
        "outputId": "d7b68e7b-0fda-4d1a-cbfc-3d07ece90e68"
      },
      "execution_count": null,
      "outputs": [
        {
          "output_type": "stream",
          "name": "stdout",
          "text": [
            "{1, 2, 3, 4, 5, 6, 8, 9}\n"
          ]
        }
      ]
    },
    {
      "cell_type": "markdown",
      "source": [
        "20. Write a code to shuffle a given list randomly without using any built-in shuffle function."
      ],
      "metadata": {
        "id": "DIx7HreCosIq"
      }
    },
    {
      "cell_type": "code",
      "source": [
        "import random\n",
        "j = random.randint(0, 9)\n",
        "print(j)"
      ],
      "metadata": {
        "colab": {
          "base_uri": "https://localhost:8080/"
        },
        "id": "_grNPMXtoqDl",
        "outputId": "94241414-759a-4f67-de6a-647fab8f828f"
      },
      "execution_count": null,
      "outputs": [
        {
          "output_type": "stream",
          "name": "stdout",
          "text": [
            "7\n"
          ]
        }
      ]
    },
    {
      "cell_type": "code",
      "source": [
        "import random\n",
        "\n",
        "def fisher_yates_shuffle(lst):\n",
        "    n = len(lst)\n",
        "    for i in range(n-1, 0, -1):\n",
        "        j = random.randint(0, i)\n",
        "        lst[i], lst[j] = lst[j], lst[i]\n",
        "\n",
        "\n",
        "sample_list = [2,4,8,6,1,9,4,3]\n",
        "print(\"Original list:\", sample_list)\n",
        "fisher_yates_shuffle(sample_list)\n",
        "print(\"Shuffled list:\", sample_list)\n"
      ],
      "metadata": {
        "colab": {
          "base_uri": "https://localhost:8080/"
        },
        "id": "QX4LUOSQp0Nd",
        "outputId": "bbf2e8e2-540c-4b35-f1cd-31e807636549"
      },
      "execution_count": null,
      "outputs": [
        {
          "output_type": "stream",
          "name": "stdout",
          "text": [
            "Original list: [2, 4, 8, 6, 1, 9, 4, 3]\n",
            "Shuffled list: [1, 9, 3, 4, 6, 4, 8, 2]\n"
          ]
        }
      ]
    },
    {
      "cell_type": "markdown",
      "source": [
        "21. Write a code that takes two tuples as input and returns a new tuple containing elements that are common to both input tuples.\n"
      ],
      "metadata": {
        "id": "DDrTyDSgqjOf"
      }
    },
    {
      "cell_type": "code",
      "source": [
        "def common(x,y):\n",
        "  outcome = set(x).intersection(set(y))\n",
        "  return outcome\n",
        "\n",
        "tup1 = (2,4,8,6,1,9,4,3)\n",
        "tup2 = (5,9,4,4,3)\n",
        "result = common(tup1,tup2)\n",
        "print(result)"
      ],
      "metadata": {
        "colab": {
          "base_uri": "https://localhost:8080/"
        },
        "id": "3VqGA24lqYEV",
        "outputId": "7d3fe46a-767c-4f91-8118-112b9d73499c"
      },
      "execution_count": null,
      "outputs": [
        {
          "output_type": "stream",
          "name": "stdout",
          "text": [
            "{9, 3, 4}\n"
          ]
        }
      ]
    },
    {
      "cell_type": "markdown",
      "source": [
        "22. Create a code that prompts the user to enter two sets of integers separated by commas. Then, print the intersection of these two sets."
      ],
      "metadata": {
        "id": "DlE1xFOXrNOL"
      }
    },
    {
      "cell_type": "code",
      "source": [
        "def get_set(prompt):\n",
        "  while True:\n",
        "    try:\n",
        "      integer = input(prompt)\n",
        "      integer_set = set(map(int,integer.split(',')))\n",
        "      return integer_set\n",
        "\n",
        "    except ValueError:\n",
        "      print(\"Invalid input. Please enter integers separated by commas.\")\n",
        "\n",
        "set1 = get_set('Enter integers separated by commas for set-1')\n",
        "set2 = get_set('Enter integers separated by commas for set-2')\n",
        "\n",
        "intersect = set1.intersection(set2)\n",
        "print(intersect)"
      ],
      "metadata": {
        "id": "fO4Lc8DZq83m",
        "colab": {
          "base_uri": "https://localhost:8080/"
        },
        "outputId": "8a936c09-c54a-4101-f7ec-e370dbbeee2a"
      },
      "execution_count": 6,
      "outputs": [
        {
          "output_type": "stream",
          "name": "stdout",
          "text": [
            "Enter integers separated by commas for set-11,3,4,6,5,2\n",
            "Enter integers separated by commas for set-27,5,1,2,3,5\n",
            "{1, 2, 3, 5}\n"
          ]
        }
      ]
    },
    {
      "cell_type": "markdown",
      "source": [
        "23. Write a code to concatenate two tuples. The function should take two tuples as input and return a new tuple containing elements from both input tuples.\n"
      ],
      "metadata": {
        "id": "aFz7iM42jrxH"
      }
    },
    {
      "cell_type": "code",
      "source": [
        "def merger(x,y):\n",
        "  z = x+y\n",
        "  return z\n",
        "\n",
        "tuple_1 = (1,2,8,'tree',9,'PW','Goa')\n",
        "tuple_2 = (6,4,'water',8,'The Earth')\n",
        "\n",
        "new_tuple = merger(tuple_1,tuple_2)\n",
        "print(new_tuple)"
      ],
      "metadata": {
        "colab": {
          "base_uri": "https://localhost:8080/"
        },
        "id": "kn0EplWHfCvQ",
        "outputId": "6404e460-ca6a-4902-b043-e5552f51295d"
      },
      "execution_count": 7,
      "outputs": [
        {
          "output_type": "stream",
          "name": "stdout",
          "text": [
            "(1, 2, 8, 'tree', 9, 'PW', 'Goa', 6, 4, 'water', 8, 'The Earth')\n"
          ]
        }
      ]
    },
    {
      "cell_type": "markdown",
      "source": [
        "24. Develop a code that prompts the user to input two sets of strings. Then, print the elements that are present in the first set but not in the second set.\n"
      ],
      "metadata": {
        "id": "OYa3wzdXloJJ"
      }
    },
    {
      "cell_type": "code",
      "source": [
        "def get_set(prompt):\n",
        "  string = input(prompt)\n",
        "  _set = set(string.split(','))\n",
        "  return _set\n",
        "\n",
        "set1 = get_set('Enter string separated by commas')\n",
        "set2 = get_set('Enter string separated by commas')\n",
        "\n",
        "difference = set1-set2\n",
        "\n",
        "print(difference)"
      ],
      "metadata": {
        "colab": {
          "base_uri": "https://localhost:8080/"
        },
        "id": "jJjlC-IKlfTQ",
        "outputId": "d2c37f78-2015-4ec8-ef90-d4ca3a0ae4f6"
      },
      "execution_count": 9,
      "outputs": [
        {
          "output_type": "stream",
          "name": "stdout",
          "text": [
            "Enter string separated by commasa,g,h,5\n",
            "Enter string separated by commasr,g,h\n",
            "{'a', '5'}\n"
          ]
        }
      ]
    },
    {
      "cell_type": "markdown",
      "source": [
        "25. Create a code that takes a tuple and two integers as input. The function should return a new tuple containing elements from the original tuple within the specified range of indices."
      ],
      "metadata": {
        "id": "f-lRrbtmr3sK"
      }
    },
    {
      "cell_type": "code",
      "source": [
        "def new_tuple(x,y,z):\n",
        "  if y<0 or y>z or z>=len(x):\n",
        "    raise ValueError(\"Invalid indices. Ensure 0 <= start_index <= end_index <= length of the tuple.\")\n",
        "  return x[y:z]\n",
        "\n",
        "sample_tuple = input('Enter values separated by commas')\n",
        "original_tuple = tuple(sample_tuple.split(','))\n",
        "first_integer = int(input('Enter the integer'))\n",
        "second_integer = int(input('Enter the integer'))\n",
        "\n",
        "result = new_tuple(original_tuple,first_integer,second_integer)\n",
        "print(result)"
      ],
      "metadata": {
        "colab": {
          "base_uri": "https://localhost:8080/"
        },
        "id": "-0yIxdsBrIKR",
        "outputId": "45b814d8-1922-4033-f3ae-19dc14131186"
      },
      "execution_count": 14,
      "outputs": [
        {
          "output_type": "stream",
          "name": "stdout",
          "text": [
            "Enter values separated by commasfgd,fh,bch,bhdvb,bc,ye,is,cbn,vb,jvbvs\n",
            "Enter the integer2\n",
            "Enter the integer5\n",
            "('bch', 'bhdvb', 'bc')\n"
          ]
        }
      ]
    },
    {
      "cell_type": "markdown",
      "source": [
        "26. Write a code that prompts the user to input two sets of characters. Then, print the union of these two sets."
      ],
      "metadata": {
        "id": "vrifkFXaFXGn"
      }
    },
    {
      "cell_type": "code",
      "source": [
        "x=input('Enter chaacters separated by commas ')\n",
        "set1 = set(x.split(','))\n",
        "y=input('Enter chaacters separated by commas ')\n",
        "set2 = set(y.split(','))\n",
        "result = set1.union(set2)\n",
        "print(result)"
      ],
      "metadata": {
        "colab": {
          "base_uri": "https://localhost:8080/"
        },
        "id": "lhwe2JiYrJgI",
        "outputId": "4ad3adba-778e-4d84-b650-4b1476e9e4d1"
      },
      "execution_count": 1,
      "outputs": [
        {
          "output_type": "stream",
          "name": "stdout",
          "text": [
            "Enter chaacters separated by commas fdhd,fhdh,fhdfh,dhhd\n",
            "Enter chaacters separated by commas 454,15,125,212,45\n",
            "{'fhdfh', '454', '15', '212', 'fdhd', '45', '125', 'dhhd', 'fhdh'}\n"
          ]
        }
      ]
    },
    {
      "cell_type": "markdown",
      "source": [
        "27. Develop a code that takes a tuple of integers as input. The function should return the maximum and minimum values from the tuple using tuple unpacking."
      ],
      "metadata": {
        "id": "ENdLkeMzYJm0"
      }
    },
    {
      "cell_type": "code",
      "source": [
        "def min_max(t):\n",
        "  max_value = max(t)\n",
        "  min_value = min(t)\n",
        "  return max_value, min_value\n",
        "\n",
        "a = input('Enter integers separated by commas ')\n",
        "test_tuple = tuple(map(int,a.split(',')))\n",
        "max_value, min_value = min_max(test_tuple)\n",
        "print(f'{max_value} is maximum and {min_value} is minimum value')"
      ],
      "metadata": {
        "colab": {
          "base_uri": "https://localhost:8080/"
        },
        "id": "xsuymoBUX2nK",
        "outputId": "3bfe059a-cb5f-4466-ad6a-10e5747aa386"
      },
      "execution_count": 4,
      "outputs": [
        {
          "output_type": "stream",
          "name": "stdout",
          "text": [
            "Enter integers separated by commas 4,5,6,1,2,8,45,64,1,23\n",
            "64 is maximum and 1 is minimum value\n"
          ]
        }
      ]
    },
    {
      "cell_type": "markdown",
      "source": [
        "28. Create a code that defines two sets of integers. Then, print the union, intersection, and difference of these two sets."
      ],
      "metadata": {
        "id": "izodl5frll6f"
      }
    },
    {
      "cell_type": "code",
      "source": [
        "x=input('Enter chaacters separated by commas ')\n",
        "set1 = set(map(int,x.split(',')))\n",
        "y=input('Enter chaacters separated by commas ')\n",
        "set2 = set(map(int,y.split(',')))\n",
        "union_result = set1.union(set2)\n",
        "intersection_result = set1.intersection(set2)\n",
        "difference = set1 - set2\n",
        "print(f'Intersection: {intersection_result}\\nUnion: {union_result}\\nDifference: {difference}')"
      ],
      "metadata": {
        "colab": {
          "base_uri": "https://localhost:8080/"
        },
        "id": "NzIcFE7Pkk91",
        "outputId": "47ad099b-cda8-4eb4-bbd2-5d6136f91636"
      },
      "execution_count": 7,
      "outputs": [
        {
          "output_type": "stream",
          "name": "stdout",
          "text": [
            "Enter chaacters separated by commas 4,5,1,2,3,4,8,6,4\n",
            "Enter chaacters separated by commas 4,2,6,9,4,6456,15\n",
            "Intersection: {2, 4, 6}\n",
            "Union: {1, 2, 3, 4, 5, 6, 8, 9, 15, 6456}\n",
            "Difference: {8, 1, 3, 5}\n"
          ]
        }
      ]
    },
    {
      "cell_type": "markdown",
      "source": [
        "29. Write a code that takes a tuple and an element as input. The function should return the count of occurrences of the given element in the tuple.\n"
      ],
      "metadata": {
        "id": "Frecqkgbna1b"
      }
    },
    {
      "cell_type": "code",
      "source": [
        "def count_occurrences(tup, element):\n",
        "    \"\"\"Returns the count of occurrences of the given element in the tuple.\"\"\"\n",
        "    return tup.count(element)\n",
        "user_input = input(\"Enter the elements of the tuple (separated by commas): \")\n",
        "input_tuple = tuple(user_input.split(','))\n",
        "\n",
        "element = input(\"Enter the element to count: \")\n",
        "\n",
        "count = count_occurrences(input_tuple, element)\n",
        "\n",
        "print(f\"The element '{element}' occurs {count} time(s) in the tuple.\")"
      ],
      "metadata": {
        "colab": {
          "base_uri": "https://localhost:8080/",
          "height": 356
        },
        "id": "jEnyexJ-mqOS",
        "outputId": "77c04b77-be6f-4596-e3af-ef27d655c6e9"
      },
      "execution_count": 9,
      "outputs": [
        {
          "output_type": "error",
          "ename": "KeyboardInterrupt",
          "evalue": "Interrupted by user",
          "traceback": [
            "\u001b[0;31m---------------------------------------------------------------------------\u001b[0m",
            "\u001b[0;31mKeyboardInterrupt\u001b[0m                         Traceback (most recent call last)",
            "\u001b[0;32m<ipython-input-9-be03aed3798c>\u001b[0m in \u001b[0;36m<cell line: 4>\u001b[0;34m()\u001b[0m\n\u001b[1;32m      2\u001b[0m     \u001b[0;34m\"\"\"Returns the count of occurrences of the given element in the tuple.\"\"\"\u001b[0m\u001b[0;34m\u001b[0m\u001b[0;34m\u001b[0m\u001b[0m\n\u001b[1;32m      3\u001b[0m     \u001b[0;32mreturn\u001b[0m \u001b[0mtup\u001b[0m\u001b[0;34m.\u001b[0m\u001b[0mcount\u001b[0m\u001b[0;34m(\u001b[0m\u001b[0melement\u001b[0m\u001b[0;34m)\u001b[0m\u001b[0;34m\u001b[0m\u001b[0;34m\u001b[0m\u001b[0m\n\u001b[0;32m----> 4\u001b[0;31m \u001b[0muser_input\u001b[0m \u001b[0;34m=\u001b[0m \u001b[0minput\u001b[0m\u001b[0;34m(\u001b[0m\u001b[0;34m\"Enter the elements of the tuple (separated by commas): \"\u001b[0m\u001b[0;34m)\u001b[0m\u001b[0;34m\u001b[0m\u001b[0;34m\u001b[0m\u001b[0m\n\u001b[0m\u001b[1;32m      5\u001b[0m \u001b[0minput_tuple\u001b[0m \u001b[0;34m=\u001b[0m \u001b[0mtuple\u001b[0m\u001b[0;34m(\u001b[0m\u001b[0muser_input\u001b[0m\u001b[0;34m.\u001b[0m\u001b[0msplit\u001b[0m\u001b[0;34m(\u001b[0m\u001b[0;34m','\u001b[0m\u001b[0;34m)\u001b[0m\u001b[0;34m)\u001b[0m\u001b[0;34m\u001b[0m\u001b[0;34m\u001b[0m\u001b[0m\n\u001b[1;32m      6\u001b[0m \u001b[0;34m\u001b[0m\u001b[0m\n",
            "\u001b[0;32m/usr/local/lib/python3.10/dist-packages/ipykernel/kernelbase.py\u001b[0m in \u001b[0;36mraw_input\u001b[0;34m(self, prompt)\u001b[0m\n\u001b[1;32m    849\u001b[0m                 \u001b[0;34m\"raw_input was called, but this frontend does not support input requests.\"\u001b[0m\u001b[0;34m\u001b[0m\u001b[0;34m\u001b[0m\u001b[0m\n\u001b[1;32m    850\u001b[0m             )\n\u001b[0;32m--> 851\u001b[0;31m         return self._input_request(str(prompt),\n\u001b[0m\u001b[1;32m    852\u001b[0m             \u001b[0mself\u001b[0m\u001b[0;34m.\u001b[0m\u001b[0m_parent_ident\u001b[0m\u001b[0;34m,\u001b[0m\u001b[0;34m\u001b[0m\u001b[0;34m\u001b[0m\u001b[0m\n\u001b[1;32m    853\u001b[0m             \u001b[0mself\u001b[0m\u001b[0;34m.\u001b[0m\u001b[0m_parent_header\u001b[0m\u001b[0;34m,\u001b[0m\u001b[0;34m\u001b[0m\u001b[0;34m\u001b[0m\u001b[0m\n",
            "\u001b[0;32m/usr/local/lib/python3.10/dist-packages/ipykernel/kernelbase.py\u001b[0m in \u001b[0;36m_input_request\u001b[0;34m(self, prompt, ident, parent, password)\u001b[0m\n\u001b[1;32m    893\u001b[0m             \u001b[0;32mexcept\u001b[0m \u001b[0mKeyboardInterrupt\u001b[0m\u001b[0;34m:\u001b[0m\u001b[0;34m\u001b[0m\u001b[0;34m\u001b[0m\u001b[0m\n\u001b[1;32m    894\u001b[0m                 \u001b[0;31m# re-raise KeyboardInterrupt, to truncate traceback\u001b[0m\u001b[0;34m\u001b[0m\u001b[0;34m\u001b[0m\u001b[0m\n\u001b[0;32m--> 895\u001b[0;31m                 \u001b[0;32mraise\u001b[0m \u001b[0mKeyboardInterrupt\u001b[0m\u001b[0;34m(\u001b[0m\u001b[0;34m\"Interrupted by user\"\u001b[0m\u001b[0;34m)\u001b[0m \u001b[0;32mfrom\u001b[0m \u001b[0;32mNone\u001b[0m\u001b[0;34m\u001b[0m\u001b[0;34m\u001b[0m\u001b[0m\n\u001b[0m\u001b[1;32m    896\u001b[0m             \u001b[0;32mexcept\u001b[0m \u001b[0mException\u001b[0m \u001b[0;32mas\u001b[0m \u001b[0me\u001b[0m\u001b[0;34m:\u001b[0m\u001b[0;34m\u001b[0m\u001b[0;34m\u001b[0m\u001b[0m\n\u001b[1;32m    897\u001b[0m                 \u001b[0mself\u001b[0m\u001b[0;34m.\u001b[0m\u001b[0mlog\u001b[0m\u001b[0;34m.\u001b[0m\u001b[0mwarning\u001b[0m\u001b[0;34m(\u001b[0m\u001b[0;34m\"Invalid Message:\"\u001b[0m\u001b[0;34m,\u001b[0m \u001b[0mexc_info\u001b[0m\u001b[0;34m=\u001b[0m\u001b[0;32mTrue\u001b[0m\u001b[0;34m)\u001b[0m\u001b[0;34m\u001b[0m\u001b[0;34m\u001b[0m\u001b[0m\n",
            "\u001b[0;31mKeyboardInterrupt\u001b[0m: Interrupted by user"
          ]
        }
      ]
    },
    {
      "cell_type": "markdown",
      "source": [
        "30. Develop a code that prompts the user to input two sets of strings. Then, print the symmetric difference of these two sets.\n"
      ],
      "metadata": {
        "id": "sMi0D6ZpnVil"
      }
    },
    {
      "cell_type": "code",
      "source": [
        "x=input('Enter chaacters separated by commas ')\n",
        "set1 = set(x.split(','))\n",
        "y=input('Enter chaacters separated by commas ')\n",
        "set2 = set(y.split(','))\n",
        "symmetric_difference = set1.symmetric_difference(set2)\n",
        "print(symmetric_difference)"
      ],
      "metadata": {
        "colab": {
          "base_uri": "https://localhost:8080/"
        },
        "id": "4IWceFR7vZLd",
        "outputId": "46325f7c-6726-45df-b5be-561d978d5637"
      },
      "execution_count": 10,
      "outputs": [
        {
          "output_type": "stream",
          "name": "stdout",
          "text": [
            "Enter chaacters separated by commas a,b,c,d\n",
            "Enter chaacters separated by commas c,d,e,f\n",
            "{'a', 'b', 'e', 'f'}\n"
          ]
        }
      ]
    },
    {
      "cell_type": "markdown",
      "source": [
        "31. Write a code that takes a list of words as input and returns a dictionary where the keys are unique words and the values are the frequencies of those words in the input list."
      ],
      "metadata": {
        "id": "EDoiAtolwLjT"
      }
    },
    {
      "cell_type": "code",
      "source": [
        "def process(s):\n",
        "  unique = {}\n",
        "  for char in s:\n",
        "    if char not in unique:\n",
        "      unique[char] = 1\n",
        "    else:\n",
        "      unique[char] +=1\n",
        "  return unique\n",
        "\n",
        "x=input('Enter element of list separated by commas: ')\n",
        "input_list = x.split(',')\n",
        "result = process(input_list)\n",
        "print(result)"
      ],
      "metadata": {
        "colab": {
          "base_uri": "https://localhost:8080/"
        },
        "id": "0ipyetP6wBtH",
        "outputId": "d8df00cc-e563-47d6-be7c-a4b48fe5429a"
      },
      "execution_count": 11,
      "outputs": [
        {
          "output_type": "stream",
          "name": "stdout",
          "text": [
            "Enter element of list separated by commas: A,B,C,D,D,D,D,A,C,C,X,Z\n",
            "{'A': 2, 'B': 1, 'C': 3, 'D': 4, 'X': 1, 'Z': 1}\n"
          ]
        }
      ]
    },
    {
      "cell_type": "markdown",
      "source": [
        "32. Write a code that takes two dictionaries as input and merges them into a single dictionary. If there are common keys, the values should be added together.\n"
      ],
      "metadata": {
        "id": "TDOyKrmTxzGv"
      }
    },
    {
      "cell_type": "code",
      "source": [
        "def merger(dict1, dict2):\n",
        "  for key in dict1:\n",
        "    if key in dict2:\n",
        "      dict2[key] += dict1[key]\n",
        "    else:\n",
        "      dict2[key] = dict1[key]\n",
        "  return dict2\n",
        "\n",
        "def input_to_dict(prompt):\n",
        "  user_input = input(prompt)\n",
        "  items = user_input.split(',')\n",
        "  result_dict = {}\n",
        "  for item in items:\n",
        "    key, value = item.split(':')\n",
        "    result_dict[key] = int(value)\n",
        "  return result_dict\n",
        "\n",
        "dict1 = input_to_dict('Enter the first dictionary (as key:value, key:value,...): ')\n",
        "dic2 = input_to_dict('Enter the second dictionary (as key:value, key:value,...): ')\n",
        "\n",
        "result = merger(dict1,dic2)\n",
        "print(result)"
      ],
      "metadata": {
        "colab": {
          "base_uri": "https://localhost:8080/"
        },
        "id": "2do_Hx2axmt6",
        "outputId": "853da31d-3a2f-4674-fc57-83b355566e22"
      },
      "execution_count": 15,
      "outputs": [
        {
          "output_type": "stream",
          "name": "stdout",
          "text": [
            "Enter the first dictionary (as key:value, key:value,...): c:3,d:5,e:6,f:1\n",
            "Enter the second dictionary (as key:value, key:value,...): a:2,b:3,c:5,d:4\n",
            "{'a': 2, 'b': 3, 'c': 8, 'd': 9, 'e': 6, 'f': 1}\n"
          ]
        }
      ]
    },
    {
      "cell_type": "markdown",
      "source": [
        "33. Write a code to access a value in a nested dictionary. The function should take the dictionary and a list of keys as input and return the corresponding value. If any of the keys do not exist in the dictionary, the function should return None."
      ],
      "metadata": {
        "id": "KKEj333L9wF_"
      }
    },
    {
      "cell_type": "code",
      "source": [
        "def get_nested_value(nested_dict, key_list):\n",
        "    current_dict = nested_dict\n",
        "    for key in key_list:\n",
        "        if key in current_dict:\n",
        "            current_dict = current_dict[key]\n",
        "        else:\n",
        "            return None\n",
        "    return current_dict\n",
        "\n",
        "nested_dict = {\n",
        "    'a': {\n",
        "        'b': {\n",
        "            'c': 42\n",
        "        }\n",
        "    }\n",
        "}\n",
        "key_list = ['a', 'b', 'c']\n",
        "\n",
        "value = get_nested_value(nested_dict, key_list)\n",
        "\n",
        "print(f\"The value is: {value}\")"
      ],
      "metadata": {
        "colab": {
          "base_uri": "https://localhost:8080/"
        },
        "id": "dT8daTbq9Wn3",
        "outputId": "5291f8e6-09ea-4032-dffb-cdb1f3b64a44"
      },
      "execution_count": 1,
      "outputs": [
        {
          "output_type": "stream",
          "name": "stdout",
          "text": [
            "The value is: 42\n"
          ]
        }
      ]
    },
    {
      "cell_type": "markdown",
      "source": [
        "34. Write a code that takes a dictionary as input and returns a sorted version of it based on the values. You can choose whether to sort in ascending or descending order."
      ],
      "metadata": {
        "id": "pEUSbXX0Hg8O"
      }
    },
    {
      "cell_type": "code",
      "source": [
        "def sorter(s):\n",
        "  input_list = s.split(',')\n",
        "  input_dict = {}\n",
        "  for item in input_list:\n",
        "    key, value = item.split(':')\n",
        "    input_dict[key.strip()] = value.strip()\n",
        "  while True:\n",
        "    x = input(\"Type 'Yes' to sort ascending and 'No' to sort decending :\").strip().lower()\n",
        "    if x == 'yes':\n",
        "      sorted_items = sorted(input_dict.items(), key = lambda item: item[1])\n",
        "      break\n",
        "\n",
        "    elif x == 'no':\n",
        "      sorted_items = sorted(input_dict.items(), key = lambda item: item[1], reverse = True)\n",
        "      break\n",
        "    else:\n",
        "      print('Enter either \"Yes\" or \"No\"')\n",
        "\n",
        "  y = sorted_items\n",
        "  return y\n",
        "\n",
        "user_dict = input('Enter key and value(as key:value, key:value...): ')\n",
        "result= sorter(user_dict)\n",
        "print(result)"
      ],
      "metadata": {
        "colab": {
          "base_uri": "https://localhost:8080/"
        },
        "id": "DJJbXVHGHprb",
        "outputId": "f0c05ee3-39a3-4536-dd32-d64acdf08bf7"
      },
      "execution_count": 10,
      "outputs": [
        {
          "output_type": "stream",
          "name": "stdout",
          "text": [
            "Enter key and value(as key:value, key:value...): a:2,b:3,c:1\n",
            "Type 'Yes' to sort ascending and 'No' to sort decending :ryrd\n",
            "Enter either \"Yes\" or \"No\"\n",
            "Type 'Yes' to sort ascending and 'No' to sort decending :no\n",
            "[('b', '3'), ('a', '2'), ('c', '1')]\n"
          ]
        }
      ]
    },
    {
      "cell_type": "markdown",
      "source": [
        "35. Write a code that inverts a dictionary, swapping keys and values. Ensure that the inverted dictionary correctly handles cases where multiple keys have the same value by storing the keys as a list in the inverted dictionary."
      ],
      "metadata": {
        "id": "UvAlc73_TBqs"
      }
    },
    {
      "cell_type": "code",
      "source": [
        "def invert_dictionary(input_dict):\n",
        "    inverted_dict = {}\n",
        "\n",
        "    for key, value in input_dict.items():\n",
        "        if value in inverted_dict:\n",
        "            inverted_dict[value].append(key)\n",
        "        else:\n",
        "            inverted_dict[value] = [key]\n",
        "\n",
        "    return inverted_dict\n",
        "\n",
        "example_dict = {\n",
        "    'a': 1,\n",
        "    'b': 2,\n",
        "    'c': 1,\n",
        "    'd': 2,\n",
        "    'e': 3\n",
        "}\n",
        "\n",
        "inverted_dict = invert_dictionary(example_dict)\n",
        "print(\"The inverted dictionary is:\", inverted_dict)"
      ],
      "metadata": {
        "colab": {
          "base_uri": "https://localhost:8080/"
        },
        "id": "8ZVytOFeJiaC",
        "outputId": "27441151-5727-4173-c8a1-e9303285d9d9"
      },
      "execution_count": 11,
      "outputs": [
        {
          "output_type": "stream",
          "name": "stdout",
          "text": [
            "The inverted dictionary is: {1: ['a', 'c'], 2: ['b', 'd'], 3: ['e']}\n"
          ]
        }
      ]
    }
  ]
}